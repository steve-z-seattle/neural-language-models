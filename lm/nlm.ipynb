{
 "cells": [
  {
   "cell_type": "code",
   "execution_count": 129,
   "id": "2a88455e-b1ea-4cec-821c-e358bd34d1f9",
   "metadata": {
    "tags": []
   },
   "outputs": [],
   "source": [
    "from tqdm import tqdm\n",
    "import matplotlib.pyplot as plt\n",
    "\n",
    "import torch\n",
    "import torch.nn.functional as F"
   ]
  },
  {
   "cell_type": "markdown",
   "id": "34a9f7a0-079a-4671-a3fe-9f5749b09f27",
   "metadata": {},
   "source": [
    "# read data"
   ]
  },
  {
   "cell_type": "code",
   "execution_count": 130,
   "id": "cf7b725e-604d-4b00-a5f6-32b98e41bf9f",
   "metadata": {
    "tags": []
   },
   "outputs": [],
   "source": [
    "words = open('../data/names.txt', 'r').read().splitlines()"
   ]
  },
  {
   "cell_type": "code",
   "execution_count": 131,
   "id": "2654383b-46e5-4d9a-b6a8-af4cf1983255",
   "metadata": {
    "tags": []
   },
   "outputs": [
    {
     "data": {
      "text/plain": [
       "32033"
      ]
     },
     "execution_count": 131,
     "metadata": {},
     "output_type": "execute_result"
    }
   ],
   "source": [
    "len(words)"
   ]
  },
  {
   "cell_type": "code",
   "execution_count": 132,
   "id": "6f2300b9-9a5b-489e-93aa-cf3afc1067cf",
   "metadata": {
    "tags": []
   },
   "outputs": [
    {
     "data": {
      "text/plain": [
       "['emma', 'olivia', 'ava', 'isabella', 'sophia']"
      ]
     },
     "execution_count": 132,
     "metadata": {},
     "output_type": "execute_result"
    }
   ],
   "source": [
    "words[:5]"
   ]
  },
  {
   "cell_type": "code",
   "execution_count": 133,
   "id": "e3db4cab-6843-4d45-82ad-00c81a3a6b6c",
   "metadata": {
    "tags": []
   },
   "outputs": [],
   "source": [
    "chars = sorted(list(set(''.join(words))))"
   ]
  },
  {
   "cell_type": "markdown",
   "id": "35dcdea4-42ef-411b-a09b-8d232a85ff32",
   "metadata": {},
   "source": [
    "# util"
   ]
  },
  {
   "cell_type": "code",
   "execution_count": 134,
   "id": "10c6c396-83f5-4761-a383-2c2c222821d5",
   "metadata": {
    "tags": []
   },
   "outputs": [],
   "source": [
    "itos = {}\n",
    "itos[0] = '.'\n",
    "itos |= {i+1: s for i, s in enumerate(chars)}"
   ]
  },
  {
   "cell_type": "code",
   "execution_count": 135,
   "id": "ac357634-10b0-4ce2-9bba-c26c054871f5",
   "metadata": {
    "tags": []
   },
   "outputs": [],
   "source": [
    "stoi = {s: i for i, s in itos.items()}"
   ]
  },
  {
   "cell_type": "markdown",
   "id": "ae43767f-7d41-44a2-b858-8db606429e07",
   "metadata": {},
   "source": [
    "# Build a neural language model"
   ]
  },
  {
   "cell_type": "markdown",
   "id": "b4b0830c-c437-4511-84a1-3ff111efb085",
   "metadata": {},
   "source": [
    "## prepare data"
   ]
  },
  {
   "cell_type": "code",
   "execution_count": 136,
   "id": "94174bfd-a7bf-4538-84e1-de587ec865d3",
   "metadata": {
    "tags": []
   },
   "outputs": [],
   "source": [
    "block_size = 3\n",
    "X, Y = [], []\n",
    "for w in words[:]:\n",
    "    # print(w)\n",
    "    context = [0] * block_size\n",
    "    for ch in w + '.':\n",
    "        ix = stoi[ch]\n",
    "        # print(''.join([itos[i] for i in context]), '--->', itos[ix])\n",
    "        X.append(context)\n",
    "        Y.append(ix)\n",
    "        context = context[1:] + [ix]        "
   ]
  },
  {
   "cell_type": "code",
   "execution_count": 137,
   "id": "a40556fa-a889-4e1a-848f-ab1303366808",
   "metadata": {
    "tags": []
   },
   "outputs": [],
   "source": [
    "X = torch.tensor(X)\n",
    "Y = torch.tensor(Y)        "
   ]
  },
  {
   "cell_type": "code",
   "execution_count": 138,
   "id": "a66154a0-a162-4005-9450-650489858af6",
   "metadata": {
    "tags": []
   },
   "outputs": [
    {
     "data": {
      "text/plain": [
       "(torch.Size([228146, 3]), torch.Size([228146]))"
      ]
     },
     "execution_count": 138,
     "metadata": {},
     "output_type": "execute_result"
    }
   ],
   "source": [
    "X.shape, Y.shape"
   ]
  },
  {
   "cell_type": "markdown",
   "id": "701fc31a-c426-4577-b398-b90554a4ec26",
   "metadata": {
    "tags": []
   },
   "source": [
    "## embedding matrix C"
   ]
  },
  {
   "cell_type": "code",
   "execution_count": 139,
   "id": "6b62de12-7718-4943-8b85-536212d8a981",
   "metadata": {
    "tags": []
   },
   "outputs": [
    {
     "data": {
      "text/plain": [
       "torch.Size([27, 2])"
      ]
     },
     "execution_count": 139,
     "metadata": {},
     "output_type": "execute_result"
    }
   ],
   "source": [
    "C = torch.randn(len(itos), 2)\n",
    "C.shape"
   ]
  },
  {
   "cell_type": "code",
   "execution_count": 140,
   "id": "41c1c884-3fb5-40ad-833e-6fcdb6eb147f",
   "metadata": {
    "tags": []
   },
   "outputs": [
    {
     "data": {
      "text/plain": [
       "torch.Size([228146, 3, 2])"
      ]
     },
     "execution_count": 140,
     "metadata": {},
     "output_type": "execute_result"
    }
   ],
   "source": [
    "emb = C[X]\n",
    "emb.shape"
   ]
  },
  {
   "cell_type": "markdown",
   "id": "ad8c0822-eada-4fd9-905a-2e93c4f48d4b",
   "metadata": {},
   "source": [
    "## hidden layer"
   ]
  },
  {
   "cell_type": "code",
   "execution_count": 141,
   "id": "dd1dde1c-7221-4df5-9f16-1902343cf5a9",
   "metadata": {
    "tags": []
   },
   "outputs": [],
   "source": [
    "w1 = torch.randn(6, 100)\n",
    "b1 = torch.randn(100)"
   ]
  },
  {
   "cell_type": "code",
   "execution_count": 142,
   "id": "5fd6fe01-89b9-4272-9114-bced68c90d33",
   "metadata": {
    "tags": []
   },
   "outputs": [
    {
     "data": {
      "text/plain": [
       "torch.Size([228146, 100])"
      ]
     },
     "execution_count": 142,
     "metadata": {},
     "output_type": "execute_result"
    }
   ],
   "source": [
    "h = (emb.view(emb.shape[0], -1) @ w1 + b1).tanh()\n",
    "h.shape"
   ]
  },
  {
   "cell_type": "markdown",
   "id": "0232d314-8276-4c45-b8f7-4de8cc225efa",
   "metadata": {},
   "source": [
    "## final layer"
   ]
  },
  {
   "cell_type": "code",
   "execution_count": 143,
   "id": "26c825d1-151c-4b2b-8e67-c6a67d47063a",
   "metadata": {
    "tags": []
   },
   "outputs": [],
   "source": [
    "w2 = torch.randn(100, len(itos))\n",
    "b2 = torch.randn(len(itos))"
   ]
  },
  {
   "cell_type": "code",
   "execution_count": 144,
   "id": "854bf2e3-8ce0-4148-baa7-50b5968bde03",
   "metadata": {
    "tags": []
   },
   "outputs": [
    {
     "data": {
      "text/plain": [
       "torch.Size([228146, 27])"
      ]
     },
     "execution_count": 144,
     "metadata": {},
     "output_type": "execute_result"
    }
   ],
   "source": [
    "logits = h @ w2 + b2\n",
    "logits.shape"
   ]
  },
  {
   "cell_type": "code",
   "execution_count": 145,
   "id": "3b4d6246-43ac-4682-8a79-720e1db89806",
   "metadata": {
    "tags": []
   },
   "outputs": [
    {
     "data": {
      "text/plain": [
       "tensor(16.3428)"
      ]
     },
     "execution_count": 145,
     "metadata": {},
     "output_type": "execute_result"
    }
   ],
   "source": [
    "loss = F.cross_entropy(logits, Y)\n",
    "loss"
   ]
  },
  {
   "cell_type": "markdown",
   "id": "7ee70e12-f9fd-4b6e-9be8-52f517b727a9",
   "metadata": {},
   "source": [
    "# Train a neural language model"
   ]
  },
  {
   "cell_type": "code",
   "execution_count": 190,
   "id": "fc56f0f6-6e30-4de4-abc9-18d089ad5517",
   "metadata": {
    "tags": []
   },
   "outputs": [],
   "source": [
    "C = torch.randn(len(itos), 2)\n",
    "w1 = torch.randn(6, 100)\n",
    "b1 = torch.randn(100)\n",
    "w2 = torch.randn(100, len(itos))\n",
    "b2 = torch.randn(len(itos))\n",
    "parameters = [C, w1, b1, w2, b2]"
   ]
  },
  {
   "cell_type": "code",
   "execution_count": 191,
   "id": "53673d8b-8971-479b-84dc-5fe3e719c221",
   "metadata": {
    "tags": []
   },
   "outputs": [
    {
     "data": {
      "text/plain": [
       "3481"
      ]
     },
     "execution_count": 191,
     "metadata": {},
     "output_type": "execute_result"
    }
   ],
   "source": [
    "sum(p.nelement() for p in parameters)"
   ]
  },
  {
   "cell_type": "code",
   "execution_count": 192,
   "id": "fb68d9de-a70b-4cd2-b80d-e58e07f5a12a",
   "metadata": {
    "tags": []
   },
   "outputs": [],
   "source": [
    "for p in parameters:\n",
    "    p.requires_grad = True"
   ]
  },
  {
   "cell_type": "code",
   "execution_count": 193,
   "id": "3a0252ca-e896-4f82-8129-9344688cf95a",
   "metadata": {
    "tags": []
   },
   "outputs": [
    {
     "name": "stderr",
     "output_type": "stream",
     "text": [
      "100%|██████████████████████████████████████████████████████████████████████████████████████| 30000/30000 [00:09<00:00, 3259.75it/s]\n"
     ]
    }
   ],
   "source": [
    "lossi = []\n",
    "for _ in tqdm(range(30000)):\n",
    "    # mini-batch\n",
    "    ix = torch.randint(0, X.shape[0], (32,))\n",
    "    Xb, Yb = X[ix], Y[ix]\n",
    "    # forward\n",
    "    emb = C[Xb] # (32, 3, 2)\n",
    "    h = (emb.view(emb.shape[0], -1) @ w1 + b1).tanh() # (32, 100)\n",
    "    logits = h @ w2 + b2 # (32, 27)\n",
    "    loss = F.cross_entropy(logits, Yb)\n",
    "\n",
    "    # backward\n",
    "    for p in parameters:\n",
    "        p.grad = None\n",
    "    loss.backward()\n",
    "\n",
    "    # update\n",
    "    for p in parameters:\n",
    "        p.data += -0.1 * p.grad\n",
    "        \n",
    "    # tracking\n",
    "    lossi.append(loss.item())"
   ]
  },
  {
   "cell_type": "code",
   "execution_count": 194,
   "id": "bab83ea2-4ab1-46e7-9eb8-c4a894b2fa36",
   "metadata": {
    "tags": []
   },
   "outputs": [
    {
     "data": {
      "text/plain": [
       "[<matplotlib.lines.Line2D at 0x120cb3850>]"
      ]
     },
     "execution_count": 194,
     "metadata": {},
     "output_type": "execute_result"
    },
    {
     "data": {
      "image/png": "[encoded data removed]",
      "text/plain": [
       "<Figure size 640x480 with 1 Axes>"
      ]
     },
     "metadata": {},
     "output_type": "display_data"
    }
   ],
   "source": [
    "plt.plot(lossi)"
   ]
  },
  {
   "cell_type": "code",
   "execution_count": 195,
   "id": "1eb049eb-e2bb-4f29-9c6a-57ecb5137649",
   "metadata": {
    "tags": []
   },
   "outputs": [
    {
     "data": {
      "text/plain": [
       "[2.478954792022705,\n",
       " 2.389252185821533,\n",
       " 2.0185036659240723,\n",
       " 2.185878276824951,\n",
       " 2.5676350593566895]"
      ]
     },
     "execution_count": 195,
     "metadata": {},
     "output_type": "execute_result"
    }
   ],
   "source": [
    "lossi[-5:]"
   ]
  },
  {
   "cell_type": "code",
   "execution_count": 196,
   "id": "3bb179e1-bda6-449e-924e-8f2bb8fa1b99",
   "metadata": {
    "tags": []
   },
   "outputs": [
    {
     "data": {
      "text/plain": [
       "torch.Size([32, 27])"
      ]
     },
     "execution_count": 196,
     "metadata": {},
     "output_type": "execute_result"
    }
   ],
   "source": [
    "logits.shape"
   ]
  },
  {
   "cell_type": "code",
   "execution_count": 197,
   "id": "9abcf4e2-00b0-41a3-ba6a-767b1172d3d9",
   "metadata": {
    "tags": []
   },
   "outputs": [
    {
     "data": {
      "text/plain": [
       "torch.return_types.max(\n",
       "values=tensor([4.5273, 6.8336, 4.7073, 3.8796, 3.6371, 6.3527, 4.3440, 2.8592, 3.6564,\n",
       "        5.1146, 3.1757, 4.3201, 4.5320, 3.9855, 4.6797, 3.6636, 5.0188, 3.2620,\n",
       "        4.3508, 6.9281, 4.7764, 3.6371, 3.6371, 4.5656, 4.9164, 3.1189, 3.8833,\n",
       "        3.4459, 6.6170, 3.8641, 4.7842, 4.7705], grad_fn=<MaxBackward0>),\n",
       "indices=tensor([ 9,  1, 14,  0,  1,  1,  0,  1,  0,  0, 18,  1,  1,  0,  1,  0,  0, 13,\n",
       "         0,  1,  0,  1,  1,  0,  0,  1,  1,  0,  9, 19, 18, 18]))"
      ]
     },
     "execution_count": 197,
     "metadata": {},
     "output_type": "execute_result"
    }
   ],
   "source": [
    "logits.max(1)"
   ]
  },
  {
   "cell_type": "code",
   "execution_count": 198,
   "id": "221c04d0-3fe2-499e-b846-e92659cced6a",
   "metadata": {
    "tags": []
   },
   "outputs": [
    {
     "data": {
      "text/plain": [
       "tensor([ 9,  1, 14,  0,  1,  1,  0,  1,  0,  0, 18,  1,  1,  0,  1,  0,  0, 13,\n",
       "         0,  1,  0,  1,  1,  0,  0,  1,  1,  0,  9, 19, 18, 18])"
      ]
     },
     "execution_count": 198,
     "metadata": {},
     "output_type": "execute_result"
    }
   ],
   "source": [
    "logits.argmax(1)[:50]"
   ]
  },
  {
   "cell_type": "code",
   "execution_count": 199,
   "id": "7c53bc44-20f5-40a7-ac68-447d57cb1176",
   "metadata": {
    "tags": []
   },
   "outputs": [
    {
     "data": {
      "text/plain": [
       "tensor([ 5, 13, 13,  1,  0, 15, 12,  9, 22,  9,  1,  0,  1, 22,  1,  0,  9, 19,\n",
       "         1,  2,  5, 12, 12,  1,  0, 19, 15, 16,  8,  9,  1,  0,  3,  8,  1, 18,\n",
       "        12, 15, 20, 20,  5,  0, 13,  9,  1,  0,  1, 13,  5, 12])"
      ]
     },
     "execution_count": 199,
     "metadata": {},
     "output_type": "execute_result"
    }
   ],
   "source": [
    "Y[:50]"
   ]
  },
  {
   "cell_type": "markdown",
   "id": "3196f8a0-54db-494c-aad6-f41605d6ec4d",
   "metadata": {},
   "source": [
    "## mini-batch"
   ]
  },
  {
   "cell_type": "code",
   "execution_count": null,
   "id": "2dc7b92d-4d99-4110-879d-a59bac0b1b76",
   "metadata": {},
   "outputs": [
    {
     "data": {
      "text/plain": [
       "tensor([1, 2, 2, 3, 4, 1, 0, 4, 3, 1, 3, 3, 3, 3, 0, 3, 0, 2, 1, 1, 3, 2, 0, 1,\n",
       "        1, 4, 4, 1, 3, 2, 4, 4])"
      ]
     },
     "execution_count": 184,
     "metadata": {},
     "output_type": "execute_result"
    }
   ],
   "source": [
    "torch.randint(0, 5, (32,))"
   ]
  },
  {
   "cell_type": "code",
   "execution_count": null,
   "id": "b037f0b6-9ce8-4993-9aed-f41605dad17c",
   "metadata": {},
   "outputs": [
    {
     "data": {
      "text/plain": [
       "tensor([111531, 110633, 165140, 224944,  19204, 187941, 216168,  56679,  11321,\n",
       "         32391,  89174,  66491,   6154, 100201, 145387, 135069,   3869, 179513,\n",
       "        108737, 213517,   2335, 101035,  58279, 217437, 170479, 206684,  76859,\n",
       "        227681, 223407, 104329, 191740, 111718])"
      ]
     },
     "execution_count": 187,
     "metadata": {},
     "output_type": "execute_result"
    }
   ],
   "source": [
    "torch.randint(0, X.shape[0], (32,))"
   ]
  },
  {
   "cell_type": "code",
   "execution_count": null,
   "id": "2749db91-9b49-48a5-bc68-3272348162bb",
   "metadata": {},
   "outputs": [],
   "source": []
  }
 ],
 "metadata": {
  "kernelspec": {
   "display_name": "Python 3 (ipykernel)",
   "language": "python",
   "name": "python3"
  },
  "language_info": {
   "codemirror_mode": {
    "name": "ipython",
    "version": 3
   },
   "file_extension": ".py",
   "mimetype": "text/x-python",
   "name": "python",
   "nbconvert_exporter": "python",
   "pygments_lexer": "ipython3",
   "version": "3.10.6"
  }
 },
 "nbformat": 4,
 "nbformat_minor": 5
}
