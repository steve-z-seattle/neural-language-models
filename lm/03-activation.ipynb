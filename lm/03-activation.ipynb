{
 "cells": [
  {
   "cell_type": "code",
   "execution_count": 13,
   "id": "2a88455e-b1ea-4cec-821c-e358bd34d1f9",
   "metadata": {
    "tags": []
   },
   "outputs": [],
   "source": [
    "import math\n",
    "import random\n",
    "from tqdm import tqdm\n",
    "import matplotlib.pyplot as plt\n",
    "\n",
    "import torch\n",
    "import torch.nn.functional as F"
   ]
  },
  {
   "cell_type": "markdown",
   "id": "34a9f7a0-079a-4671-a3fe-9f5749b09f27",
   "metadata": {},
   "source": [
    "# read data"
   ]
  },
  {
   "cell_type": "code",
   "execution_count": 14,
   "id": "cf7b725e-604d-4b00-a5f6-32b98e41bf9f",
   "metadata": {
    "tags": []
   },
   "outputs": [],
   "source": [
    "words = open('../data/names.txt', 'r').read().splitlines()"
   ]
  },
  {
   "cell_type": "code",
   "execution_count": 15,
   "id": "2654383b-46e5-4d9a-b6a8-af4cf1983255",
   "metadata": {
    "tags": []
   },
   "outputs": [
    {
     "data": {
      "text/plain": [
       "32033"
      ]
     },
     "execution_count": 15,
     "metadata": {},
     "output_type": "execute_result"
    }
   ],
   "source": [
    "len(words)"
   ]
  },
  {
   "cell_type": "code",
   "execution_count": 16,
   "id": "6f2300b9-9a5b-489e-93aa-cf3afc1067cf",
   "metadata": {
    "tags": []
   },
   "outputs": [
    {
     "data": {
      "text/plain": [
       "['emma', 'olivia', 'ava', 'isabella', 'sophia']"
      ]
     },
     "execution_count": 16,
     "metadata": {},
     "output_type": "execute_result"
    }
   ],
   "source": [
    "words[:5]"
   ]
  },
  {
   "cell_type": "code",
   "execution_count": 17,
   "id": "e3db4cab-6843-4d45-82ad-00c81a3a6b6c",
   "metadata": {
    "tags": []
   },
   "outputs": [],
   "source": [
    "chars = sorted(list(set(''.join(words))))"
   ]
  },
  {
   "cell_type": "markdown",
   "id": "35dcdea4-42ef-411b-a09b-8d232a85ff32",
   "metadata": {},
   "source": [
    "# util"
   ]
  },
  {
   "cell_type": "code",
   "execution_count": 18,
   "id": "10c6c396-83f5-4761-a383-2c2c222821d5",
   "metadata": {
    "tags": []
   },
   "outputs": [],
   "source": [
    "itos = {}\n",
    "itos[0] = '.'\n",
    "itos |= {i+1: s for i, s in enumerate(chars)}"
   ]
  },
  {
   "cell_type": "code",
   "execution_count": 19,
   "id": "ac357634-10b0-4ce2-9bba-c26c054871f5",
   "metadata": {
    "tags": []
   },
   "outputs": [],
   "source": [
    "stoi = {s: i for i, s in itos.items()}"
   ]
  },
  {
   "cell_type": "code",
   "execution_count": 20,
   "id": "ac0e8238-19b5-4a72-83e4-f00af9cd8610",
   "metadata": {
    "tags": []
   },
   "outputs": [
    {
     "data": {
      "text/plain": [
       "27"
      ]
     },
     "execution_count": 20,
     "metadata": {},
     "output_type": "execute_result"
    }
   ],
   "source": [
    "vocab_size = len(stoi)\n",
    "vocab_size"
   ]
  },
  {
   "cell_type": "markdown",
   "id": "ae43767f-7d41-44a2-b858-8db606429e07",
   "metadata": {},
   "source": [
    "# Build a neural language model"
   ]
  },
  {
   "cell_type": "markdown",
   "id": "b4b0830c-c437-4511-84a1-3ff111efb085",
   "metadata": {},
   "source": [
    "## prepare data"
   ]
  },
  {
   "cell_type": "code",
   "execution_count": 21,
   "id": "94174bfd-a7bf-4538-84e1-de587ec865d3",
   "metadata": {
    "tags": []
   },
   "outputs": [],
   "source": [
    "BLOCK_SIZE = 3\n",
    "def build_dataset(data):\n",
    "    X, Y = [], []\n",
    "    for w in data[:]:\n",
    "        # print(w)\n",
    "        context = [0] * BLOCK_SIZE\n",
    "        for ch in w + '.':\n",
    "            ix = stoi[ch]\n",
    "            # print(''.join([itos[i] for i in context]), '--->', itos[ix])\n",
    "            X.append(context)\n",
    "            Y.append(ix)\n",
    "            context = context[1:] + [ix]        \n",
    "\n",
    "    X = torch.tensor(X)\n",
    "    Y = torch.tensor(Y)        \n",
    "    print(X.shape, Y.shape)\n",
    "    return X, Y"
   ]
  },
  {
   "cell_type": "code",
   "execution_count": 22,
   "id": "ad114b7b-5531-430e-9e78-ea5b2bba8919",
   "metadata": {
    "tags": []
   },
   "outputs": [
    {
     "name": "stdout",
     "output_type": "stream",
     "text": [
      "torch.Size([182625, 3]) torch.Size([182625])\n",
      "torch.Size([22655, 3]) torch.Size([22655])\n",
      "torch.Size([22866, 3]) torch.Size([22866])\n"
     ]
    }
   ],
   "source": [
    "random.seed(42)\n",
    "random.shuffle(words)\n",
    "n1 = int(0.8*len(words))\n",
    "n2 = int(0.9*len(words))\n",
    "         \n",
    "Xtr, Ytr = build_dataset(words[:n1])\n",
    "Xdv, Ydv = build_dataset(words[n1:n2])\n",
    "Xte, Yte = build_dataset(words[n2:])                               "
   ]
  },
  {
   "cell_type": "markdown",
   "id": "7ee70e12-f9fd-4b6e-9be8-52f517b727a9",
   "metadata": {},
   "source": [
    "# Train a neural language model"
   ]
  },
  {
   "cell_type": "code",
   "execution_count": 23,
   "id": "82377c6c-7433-41e3-b2e9-8af5d694864a",
   "metadata": {
    "tags": []
   },
   "outputs": [],
   "source": [
    "EMBD_DIM = 10\n",
    "HIDDEN_DIM = 200"
   ]
  },
  {
   "cell_type": "code",
   "execution_count": 39,
   "id": "fc56f0f6-6e30-4de4-abc9-18d089ad5517",
   "metadata": {
    "tags": []
   },
   "outputs": [],
   "source": [
    "C = torch.randn(len(itos), EMBD_DIM)\n",
    "w1 = torch.randn(EMBD_DIM*BLOCK_SIZE, HIDDEN_DIM) *0.2\n",
    "b1 = torch.randn(HIDDEN_DIM) *0.01\n",
    "w2 = torch.randn(HIDDEN_DIM, vocab_size) * 0.02\n",
    "b2 = torch.randn(vocab_size) * 0.01\n",
    "parameters = [C, w1, b1, w2, b2]"
   ]
  },
  {
   "cell_type": "code",
   "execution_count": 40,
   "id": "53673d8b-8971-479b-84dc-5fe3e719c221",
   "metadata": {
    "tags": []
   },
   "outputs": [
    {
     "data": {
      "text/plain": [
       "11897"
      ]
     },
     "execution_count": 40,
     "metadata": {},
     "output_type": "execute_result"
    }
   ],
   "source": [
    "sum(p.nelement() for p in parameters)"
   ]
  },
  {
   "cell_type": "code",
   "execution_count": 41,
   "id": "fb68d9de-a70b-4cd2-b80d-e58e07f5a12a",
   "metadata": {
    "tags": []
   },
   "outputs": [],
   "source": [
    "for p in parameters:\n",
    "    p.requires_grad = True"
   ]
  },
  {
   "cell_type": "code",
   "execution_count": 42,
   "id": "e6b46f27-be6f-41f1-a9df-210a2650d093",
   "metadata": {},
   "outputs": [],
   "source": [
    "loglossi = []\n",
    "lossi = []"
   ]
  },
  {
   "cell_type": "code",
   "execution_count": 43,
   "id": "cb87dd28-3e8a-4e61-8826-88db4dd1bb82",
   "metadata": {},
   "outputs": [
    {
     "name": "stderr",
     "output_type": "stream",
     "text": [
      "100%|████████████████████████████████████████████████████████| 200000/200000 [01:13<00:00, 2711.40it/s]\n"
     ]
    }
   ],
   "source": [
    "# STEPS = 800_000\n",
    "# STEPS = 200_000\n",
    "STEPS = 200_000\n",
    "for i in tqdm(range(STEPS)):\n",
    "    # mini-batch\n",
    "    ix = torch.randint(0, Xtr.shape[0], (32,))\n",
    "    Xb, Yb = Xtr[ix], Ytr[ix]\n",
    "    # forward\n",
    "    emb = C[Xb] # (32, 3, 2)\n",
    "    h = (emb.view(emb.shape[0], -1) @ w1 + b1).tanh() # (32, 100)\n",
    "    logits = h @ w2 + b2 # (32, 27)\n",
    "    loss = F.cross_entropy(logits, Yb)\n",
    "\n",
    "    # backward\n",
    "    for p in parameters:\n",
    "        p.grad = None\n",
    "    loss.backward()\n",
    "\n",
    "    # update\n",
    "    lr = 0.1 if i < STEPS//2 else 0.01\n",
    "    for p in parameters:\n",
    "        p.data += -lr * p.grad\n",
    "        \n",
    "    # tracking\n",
    "    loglossi.append(loss.log10().item())\n",
    "    lossi.append(loss.item())"
   ]
  },
  {
   "cell_type": "markdown",
   "id": "82a1ca48-96f7-4ccc-9828-6c435bcc0137",
   "metadata": {},
   "source": [
    "# compute init loss"
   ]
  },
  {
   "cell_type": "code",
   "execution_count": 44,
   "id": "e719c802-6b4a-4cb4-8f5f-3af42aaab578",
   "metadata": {
    "tags": []
   },
   "outputs": [
    {
     "data": {
      "text/plain": [
       "tensor([3.2958])"
      ]
     },
     "execution_count": 44,
     "metadata": {},
     "output_type": "execute_result"
    }
   ],
   "source": [
    "-torch.tensor([1/27]).log()"
   ]
  },
  {
   "cell_type": "code",
   "execution_count": 45,
   "id": "2b464ba4-4be8-41e6-8a78-72c4ace8e050",
   "metadata": {
    "tags": []
   },
   "outputs": [
    {
     "data": {
      "text/plain": [
       "27.0044049771741"
      ]
     },
     "execution_count": 45,
     "metadata": {},
     "output_type": "execute_result"
    }
   ],
   "source": [
    "math.e**3.296"
   ]
  },
  {
   "cell_type": "code",
   "execution_count": 46,
   "id": "78d159ab-08ca-4981-86b0-e5c00e582f93",
   "metadata": {},
   "outputs": [
    {
     "data": {
      "text/plain": [
       "[3.314830780029297,\n",
       " 3.279710292816162,\n",
       " 3.2342607975006104,\n",
       " 3.2206127643585205,\n",
       " 3.1970512866973877]"
      ]
     },
     "execution_count": 46,
     "metadata": {},
     "output_type": "execute_result"
    }
   ],
   "source": [
    "lossi[:5]"
   ]
  },
  {
   "cell_type": "code",
   "execution_count": 47,
   "id": "c21c0b87-4280-4133-82e4-989c14a0683a",
   "metadata": {
    "tags": []
   },
   "outputs": [
    {
     "data": {
      "text/plain": [
       "[<matplotlib.lines.Line2D at 0x12ac2eb60>]"
      ]
     },
     "execution_count": 47,
     "metadata": {},
     "output_type": "execute_result"
    },
    {
     "data": {
      "image/png": "[encoded data removed]",
      "text/plain": [
       "<Figure size 640x480 with 1 Axes>"
      ]
     },
     "metadata": {},
     "output_type": "display_data"
    }
   ],
   "source": [
    "plt.plot(lossi[:10])"
   ]
  },
  {
   "cell_type": "markdown",
   "id": "e537c9b5-2f92-4314-95c0-ad81b1a4b35f",
   "metadata": {},
   "source": [
    "# plot loss"
   ]
  },
  {
   "cell_type": "code",
   "execution_count": 64,
   "id": "8f720bab-785f-4105-a265-4782d98b7391",
   "metadata": {
    "tags": []
   },
   "outputs": [
    {
     "data": {
      "image/png": "[encoded data removed]",
      "text/plain": [
       "<Figure size 1200x300 with 1 Axes>"
      ]
     },
     "metadata": {},
     "output_type": "display_data"
    }
   ],
   "source": [
    "group_size = 200\n",
    "plt.figure(figsize=(12,3))\n",
    "plt.plot(\n",
    "    torch.arange(len(lossi)).view(-1, group_size).float().mean(1),\n",
    "    torch.tensor(lossi).view(-1, group_size).mean(1)\n",
    ")\n",
    "plt.grid()\n",
    "plt.show()"
   ]
  },
  {
   "cell_type": "markdown",
   "id": "5c3ca834-3a9d-4df4-9191-29de2b560d85",
   "metadata": {
    "tags": []
   },
   "source": [
    "## compute loss on train/dev/test"
   ]
  },
  {
   "cell_type": "code",
   "execution_count": 49,
   "id": "693a38b5-b71f-4c0a-875b-d134b4a30503",
   "metadata": {
    "tags": []
   },
   "outputs": [],
   "source": [
    "@torch.no_grad()\n",
    "def eval_dataset(X, Y):\n",
    "    emb = C[X] # (32, 3, 2)\n",
    "    h = (emb.view(emb.shape[0], -1) @ w1 + b1).tanh() # (32, 100)\n",
    "    logits = h @ w2 + b2 # (32, 27)\n",
    "    loss = F.cross_entropy(logits, Y)\n",
    "    print(loss.item())"
   ]
  },
  {
   "cell_type": "code",
   "execution_count": 50,
   "id": "3e549f1a-9123-46bb-90e1-ca59e3db2d2a",
   "metadata": {
    "tags": []
   },
   "outputs": [
    {
     "name": "stdout",
     "output_type": "stream",
     "text": [
      "2.040248394012451\n",
      "2.1058621406555176\n"
     ]
    }
   ],
   "source": [
    "eval_dataset(Xtr, Ytr)\n",
    "eval_dataset(Xdv, Ydv)\n",
    "# eval_dataset(Xte, Yte)"
   ]
  },
  {
   "cell_type": "code",
   "execution_count": 38,
   "id": "df8a7d4a-5296-4097-8cdc-132397a2ed3c",
   "metadata": {
    "tags": []
   },
   "outputs": [
    {
     "name": "stdout",
     "output_type": "stream",
     "text": [
      "2.066291570663452\n",
      "2.130605459213257\n"
     ]
    }
   ],
   "source": [
    "eval_dataset(Xtr, Ytr)\n",
    "eval_dataset(Xdv, Ydv)\n",
    "# eval_dataset(Xte, Yte)"
   ]
  },
  {
   "cell_type": "markdown",
   "id": "93eaae2a-92fe-4bce-9741-23ab967adeb7",
   "metadata": {},
   "source": [
    "# generate names"
   ]
  },
  {
   "cell_type": "code",
   "execution_count": 36,
   "id": "c81d5977-391c-4134-b3e6-708dabfe6474",
   "metadata": {
    "tags": []
   },
   "outputs": [],
   "source": [
    "g = torch.Generator().manual_seed(2147483647 + 10)"
   ]
  },
  {
   "cell_type": "code",
   "execution_count": 37,
   "id": "e9c26489-bfce-4444-b25a-ae4c02329198",
   "metadata": {
    "tags": []
   },
   "outputs": [
    {
     "name": "stdout",
     "output_type": "stream",
     "text": [
      "carmahfate.\n",
      "heritzimir.\n",
      "reigh.\n",
      "skanden.\n",
      "jazzuel.\n",
      "deliah.\n",
      "jareei.\n",
      "nellara.\n",
      "chaihfon.\n",
      "leigh.\n"
     ]
    }
   ],
   "source": [
    "for _ in range(10):\n",
    "    out = []\n",
    "    context = [0] * BLOCK_SIZE\n",
    "    while True:\n",
    "        emb = C[torch.tensor([context])]\n",
    "        h = (emb.view(1, -1) @ w1 + b1).tanh()\n",
    "        logits = h @ w2 + b2\n",
    "        probs = F.softmax(logits, dim=1)\n",
    "        ix = torch.multinomial(probs, num_samples=1, generator=g).item()\n",
    "        context = context[1:] + [ix]\n",
    "        out.append(ix)\n",
    "        if ix == 0:\n",
    "            break\n",
    "    print(''.join(itos[i] for i in out))"
   ]
  },
  {
   "cell_type": "markdown",
   "id": "6035da2a-97a0-439b-8a4f-953bef6a22a4",
   "metadata": {},
   "source": [
    "# Q1: Neural Smoothing?"
   ]
  },
  {
   "cell_type": "code",
   "execution_count": null,
   "id": "b2a028c5-1c9b-47dd-9fa6-844b5214cab7",
   "metadata": {},
   "outputs": [],
   "source": []
  }
 ],
 "metadata": {
  "kernelspec": {
   "display_name": "Python 3 (ipykernel)",
   "language": "python",
   "name": "python3"
  },
  "language_info": {
   "codemirror_mode": {
    "name": "ipython",
    "version": 3
   },
   "file_extension": ".py",
   "mimetype": "text/x-python",
   "name": "python",
   "nbconvert_exporter": "python",
   "pygments_lexer": "ipython3",
   "version": "3.10.6"
  }
 },
 "nbformat": 4,
 "nbformat_minor": 5
}
