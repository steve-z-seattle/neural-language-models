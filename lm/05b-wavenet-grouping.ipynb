{
 "cells": [
  {
   "cell_type": "code",
   "execution_count": 2,
   "id": "2a88455e-b1ea-4cec-821c-e358bd34d1f9",
   "metadata": {
    "tags": []
   },
   "outputs": [],
   "source": [
    "import random\n",
    "from tqdm import tqdm\n",
    "import matplotlib.pyplot as plt\n",
    "\n",
    "import torch\n",
    "import torch.nn.functional as F"
   ]
  },
  {
   "cell_type": "markdown",
   "id": "34a9f7a0-079a-4671-a3fe-9f5749b09f27",
   "metadata": {},
   "source": [
    "# read data"
   ]
  },
  {
   "cell_type": "code",
   "execution_count": 3,
   "id": "cf7b725e-604d-4b00-a5f6-32b98e41bf9f",
   "metadata": {
    "tags": []
   },
   "outputs": [],
   "source": [
    "words = open('../data/names.txt', 'r').read().splitlines()"
   ]
  },
  {
   "cell_type": "code",
   "execution_count": 4,
   "id": "2654383b-46e5-4d9a-b6a8-af4cf1983255",
   "metadata": {
    "tags": []
   },
   "outputs": [
    {
     "data": {
      "text/plain": [
       "32033"
      ]
     },
     "execution_count": 4,
     "metadata": {},
     "output_type": "execute_result"
    }
   ],
   "source": [
    "len(words)"
   ]
  },
  {
   "cell_type": "code",
   "execution_count": 5,
   "id": "6f2300b9-9a5b-489e-93aa-cf3afc1067cf",
   "metadata": {
    "tags": []
   },
   "outputs": [
    {
     "data": {
      "text/plain": [
       "['emma', 'olivia', 'ava', 'isabella', 'sophia']"
      ]
     },
     "execution_count": 5,
     "metadata": {},
     "output_type": "execute_result"
    }
   ],
   "source": [
    "words[:5]"
   ]
  },
  {
   "cell_type": "code",
   "execution_count": 6,
   "id": "e3db4cab-6843-4d45-82ad-00c81a3a6b6c",
   "metadata": {
    "tags": []
   },
   "outputs": [],
   "source": [
    "chars = sorted(list(set(''.join(words))))"
   ]
  },
  {
   "cell_type": "markdown",
   "id": "35dcdea4-42ef-411b-a09b-8d232a85ff32",
   "metadata": {},
   "source": [
    "# util"
   ]
  },
  {
   "cell_type": "code",
   "execution_count": 7,
   "id": "10c6c396-83f5-4761-a383-2c2c222821d5",
   "metadata": {
    "tags": []
   },
   "outputs": [],
   "source": [
    "itos = {}\n",
    "itos[0] = '.'\n",
    "itos |= {i+1: s for i, s in enumerate(chars)}"
   ]
  },
  {
   "cell_type": "code",
   "execution_count": 8,
   "id": "ac357634-10b0-4ce2-9bba-c26c054871f5",
   "metadata": {
    "tags": []
   },
   "outputs": [],
   "source": [
    "stoi = {s: i for i, s in itos.items()}"
   ]
  },
  {
   "cell_type": "code",
   "execution_count": 9,
   "id": "f9fd15b2-868c-4a24-a851-4fe2cb6cc507",
   "metadata": {
    "tags": []
   },
   "outputs": [
    {
     "data": {
      "text/plain": [
       "27"
      ]
     },
     "execution_count": 9,
     "metadata": {},
     "output_type": "execute_result"
    }
   ],
   "source": [
    "vocab_size = len(stoi)\n",
    "vocab_size"
   ]
  },
  {
   "cell_type": "markdown",
   "id": "ae43767f-7d41-44a2-b858-8db606429e07",
   "metadata": {},
   "source": [
    "# Build a neural language model"
   ]
  },
  {
   "cell_type": "markdown",
   "id": "b4b0830c-c437-4511-84a1-3ff111efb085",
   "metadata": {},
   "source": [
    "## prepare data"
   ]
  },
  {
   "cell_type": "code",
   "execution_count": 10,
   "id": "a7145292-1c7c-40ce-be6b-c423841505f7",
   "metadata": {
    "tags": []
   },
   "outputs": [],
   "source": [
    "block_size = 8"
   ]
  },
  {
   "cell_type": "code",
   "execution_count": 11,
   "id": "94174bfd-a7bf-4538-84e1-de587ec865d3",
   "metadata": {
    "tags": []
   },
   "outputs": [],
   "source": [
    "def build_dataset(data):\n",
    "    X, Y = [], []\n",
    "    for w in data[:]:\n",
    "        # print(w)\n",
    "        context = [0] * block_size\n",
    "        for ch in w + '.':\n",
    "            ix = stoi[ch]\n",
    "            # print(''.join([itos[i] for i in context]), '--->', itos[ix])\n",
    "            X.append(context)\n",
    "            Y.append(ix)\n",
    "            context = context[1:] + [ix]        \n",
    "\n",
    "    X = torch.tensor(X)\n",
    "    Y = torch.tensor(Y)        \n",
    "    print(X.shape, Y.shape)\n",
    "    return X, Y"
   ]
  },
  {
   "cell_type": "code",
   "execution_count": 12,
   "id": "ad114b7b-5531-430e-9e78-ea5b2bba8919",
   "metadata": {
    "tags": []
   },
   "outputs": [
    {
     "name": "stdout",
     "output_type": "stream",
     "text": [
      "torch.Size([182625, 8]) torch.Size([182625])\n",
      "torch.Size([22655, 8]) torch.Size([22655])\n",
      "torch.Size([22866, 8]) torch.Size([22866])\n"
     ]
    }
   ],
   "source": [
    "random.seed(42)\n",
    "random.shuffle(words)\n",
    "n1 = int(0.8*len(words))\n",
    "n2 = int(0.9*len(words))\n",
    "         \n",
    "Xtr, Ytr = build_dataset(words[:n1])\n",
    "Xdv, Ydv = build_dataset(words[n1:n2])\n",
    "Xte, Yte = build_dataset(words[n2:])                               "
   ]
  },
  {
   "cell_type": "markdown",
   "id": "643a24d2-39f2-4528-9a42-90138ea1278c",
   "metadata": {
    "tags": []
   },
   "source": [
    "# Mimic PyTorch API"
   ]
  },
  {
   "cell_type": "code",
   "execution_count": 49,
   "id": "4d31b70c-7465-4045-888c-97be73b97dea",
   "metadata": {
    "tags": []
   },
   "outputs": [],
   "source": [
    "# ----------------------------------    \n",
    "class Linear:\n",
    "    def __init__(self, fan_in, fan_out, bias=True):\n",
    "        self.weight = torch.randn(fan_in, fan_out) / fan_in**0.5\n",
    "        self.bias = torch.zeros(fan_out) if bias else None\n",
    "    \n",
    "    def __call__(self, x):\n",
    "        self.out = x @ self.weight\n",
    "        if self.bias is not None:\n",
    "            self.out += self.bias\n",
    "        return self.out\n",
    "    \n",
    "    def parameters(self):\n",
    "        return [self.weight] + ([self.bias] if self.bias is not None else [])\n",
    "    \n",
    "class BatchNorm1d:\n",
    "    def __init__(self, dim, eps=1e-5, momentum=0.1):\n",
    "        self.eps = eps\n",
    "        self.momentum = momentum\n",
    "        self.training = True\n",
    "        # parameters\n",
    "        self.gamma = torch.ones(dim)\n",
    "        self.beta = torch.zeros(dim)\n",
    "        # buffers\n",
    "        self.running_mean = torch.zeros(dim)\n",
    "        self.running_var = torch.ones(dim)\n",
    "        \n",
    "    def __call__(self, x):\n",
    "        if self.training:\n",
    "            if x.ndim == 2:\n",
    "                dim = 0\n",
    "            elif x.ndim == 3:\n",
    "                dim = (0, 1)\n",
    "            xmean = x.mean(dim, keepdim=True)\n",
    "            xvar = x.var(dim, keepdim=True)\n",
    "        else:\n",
    "            xmean = self.running_mean\n",
    "            xvar = self.running_var\n",
    "        xhat = (x - xmean) / torch.sqrt(xvar + self.eps)\n",
    "        self.out = self.gamma * xhat + self.beta\n",
    "        # update the buffer\n",
    "        if self.training:\n",
    "            with torch.no_grad():\n",
    "                self.running_mean = (1 - self.momentum) * self.running_mean + self.momentum * xmean\n",
    "                self.running_var = (1 - self.momentum) * self.running_var + self.momentum * xvar\n",
    "        return self.out\n",
    "    \n",
    "    def parameters(self):\n",
    "        return [self.gamma, self.beta]\n",
    "    \n",
    "# ----------------------------------    \n",
    "class Tanh:\n",
    "    def __call__(self, x):\n",
    "        self.out = torch.tanh(x)\n",
    "        return self.out\n",
    "    \n",
    "    def parameters(self):\n",
    "        return []\n",
    "    \n",
    "# ----------------------------------    \n",
    "class Embedding:\n",
    "    def __init__(self, num_embd, embd_dim):\n",
    "        self.weight = torch.randn(num_embd, embd_dim)\n",
    "\n",
    "    def __call__(self, IX):\n",
    "        self.out = self.weight[IX]\n",
    "        return self.out\n",
    "    \n",
    "    def parameters(self):\n",
    "        return [self.weight]\n",
    "\n",
    "# ----------------------------------    \n",
    "class FlattenX():\n",
    "    def __call__(self, x):\n",
    "        self.out = x.view(x.shape[0], -1)\n",
    "        return self.out\n",
    "    \n",
    "    def parameters(self):\n",
    "        return []\n",
    "\n",
    "# ----------------------------------    \n",
    "class FlattenConsecutive():\n",
    "    def __init__(self, n):\n",
    "        self.n = n\n",
    "        \n",
    "    def __call__(self, x):\n",
    "        B, T, C = x.shape\n",
    "        # self.out = x.view(x.shape[0], -1)\n",
    "        x = x.view(B, T//self.n, C*self.n)\n",
    "        if x.shape[1] == 1:\n",
    "            x = x.squeeze(1)\n",
    "        self.out = x\n",
    "        return self.out\n",
    "    \n",
    "    def parameters(self):\n",
    "        return []\n",
    "    \n",
    "# ----------------------------------    \n",
    "class Sequential:\n",
    "    def __init__(self, layers):\n",
    "        self.layers = layers\n",
    "        \n",
    "    def __call__(self, x):\n",
    "        for layer in self.layers:\n",
    "            x = layer(x)\n",
    "        self.out = x\n",
    "        return self.out\n",
    "    \n",
    "    def parameters(self):\n",
    "        return [p for layer in self.layers for p in layer.parameters()]"
   ]
  },
  {
   "cell_type": "markdown",
   "id": "7ee70e12-f9fd-4b6e-9be8-52f517b727a9",
   "metadata": {},
   "source": [
    "# Train a neural language model"
   ]
  },
  {
   "cell_type": "markdown",
   "id": "ca4260ac-d1ec-4085-9fd6-efdeda9d15c7",
   "metadata": {
    "tags": []
   },
   "source": [
    "## define model"
   ]
  },
  {
   "cell_type": "code",
   "execution_count": 50,
   "id": "dc2b6c00-d23e-4ef9-96e0-dc2a94f9638c",
   "metadata": {
    "tags": []
   },
   "outputs": [
    {
     "name": "stdout",
     "output_type": "stream",
     "text": [
      "22397\n"
     ]
    }
   ],
   "source": [
    "n_embd = 10\n",
    "n_hidden = 68\n",
    "\n",
    "model = Sequential([\n",
    "    Embedding(vocab_size, n_embd),\n",
    "    # FlattenConsecutive(block_size), Linear(n_embd * block_size, n_hidden, bias=False), BatchNorm1d(n_hidden), Tanh(),\n",
    "    FlattenConsecutive(2), Linear(n_embd * 2, n_hidden, bias=False), BatchNorm1d(n_hidden), Tanh(),\n",
    "    FlattenConsecutive(2), Linear(n_hidden * 2, n_hidden, bias=False), BatchNorm1d(n_hidden), Tanh(),\n",
    "    FlattenConsecutive(2), Linear(n_hidden * 2, n_hidden, bias=False), BatchNorm1d(n_hidden), Tanh(),\n",
    "    Linear(n_hidden, vocab_size),\n",
    "])\n",
    "\n",
    "with torch.no_grad():\n",
    "    model.layers[-1].weight *= 0.02\n",
    "\n",
    "parameters = model.parameters()\n",
    "print(sum(p.nelement() for p in parameters))\n",
    "for p in parameters:\n",
    "    p.requires_grad = True"
   ]
  },
  {
   "cell_type": "markdown",
   "id": "1437f188-4c24-41c1-a79d-32587dcddcfd",
   "metadata": {},
   "source": [
    "## scratch space"
   ]
  },
  {
   "cell_type": "code",
   "execution_count": 51,
   "id": "c6e0c000-e7ff-4e23-a9a0-caf591eb5192",
   "metadata": {
    "tags": []
   },
   "outputs": [
    {
     "data": {
      "text/plain": [
       "tensor([ 64539,  21905, 116132, 123647, 113426])"
      ]
     },
     "execution_count": 51,
     "metadata": {},
     "output_type": "execute_result"
    }
   ],
   "source": [
    "ix = torch.randint(0, Xtr.shape[0], (5, ))\n",
    "ix"
   ]
  },
  {
   "cell_type": "code",
   "execution_count": 52,
   "id": "1334c693-cc6f-4aff-89a2-6335d431f5b7",
   "metadata": {
    "tags": []
   },
   "outputs": [
    {
     "data": {
      "text/plain": [
       "(tensor([[ 0,  0,  0,  0,  0,  4,  1, 18],\n",
       "         [ 0,  0,  0,  0,  0,  2,  5, 20],\n",
       "         [ 3,  1, 14,  4,  5, 12,  1, 18],\n",
       "         [ 0,  0,  0, 13,  1, 18, 10, 15],\n",
       "         [ 0,  0,  0,  0,  0,  0,  0, 10]]),\n",
       " tensor([ 5, 21,  9, 18,  1]))"
      ]
     },
     "execution_count": 52,
     "metadata": {},
     "output_type": "execute_result"
    }
   ],
   "source": [
    "Xb, Yb = Xtr[ix], Ytr[ix]\n",
    "Xb, Yb"
   ]
  },
  {
   "cell_type": "code",
   "execution_count": 53,
   "id": "d83168d2-fb29-4ffc-9d73-2220c85bffc3",
   "metadata": {
    "tags": []
   },
   "outputs": [
    {
     "data": {
      "text/plain": [
       "(torch.Size([5, 8]), torch.Size([5]))"
      ]
     },
     "execution_count": 53,
     "metadata": {},
     "output_type": "execute_result"
    }
   ],
   "source": [
    "Xb.shape, Yb.shape"
   ]
  },
  {
   "cell_type": "code",
   "execution_count": 54,
   "id": "824a3c18-336e-4cba-9b39-071c009881fd",
   "metadata": {
    "tags": []
   },
   "outputs": [],
   "source": [
    "logits = model(Xb)"
   ]
  },
  {
   "cell_type": "code",
   "execution_count": 26,
   "id": "b25b22cd-ad29-4f4d-87ff-33656fbf8332",
   "metadata": {
    "tags": []
   },
   "outputs": [
    {
     "name": "stdout",
     "output_type": "stream",
     "text": [
      "           Embedding : torch.Size([5, 8, 10])\n",
      "  FlattenConsecutive : torch.Size([5, 80])\n",
      "              Linear : torch.Size([5, 68])\n",
      "         BatchNorm1d : torch.Size([5, 68])\n",
      "                Tanh : torch.Size([5, 68])\n",
      "              Linear : torch.Size([5, 27])\n"
     ]
    }
   ],
   "source": [
    "for layer in model.layers:\n",
    "    try:\n",
    "        print(f\"{layer.__class__.__name__:>20s} : {layer.out.shape}\")\n",
    "    except:\n",
    "        pass"
   ]
  },
  {
   "cell_type": "code",
   "execution_count": 32,
   "id": "aad65fc0-a982-4755-9f31-beaab557a5e2",
   "metadata": {
    "tags": []
   },
   "outputs": [
    {
     "name": "stdout",
     "output_type": "stream",
     "text": [
      "           Embedding : torch.Size([5, 8, 10])\n",
      "  FlattenConsecutive : torch.Size([5, 4, 20])\n",
      "              Linear : torch.Size([5, 4, 68])\n",
      "         BatchNorm1d : torch.Size([5, 4, 68])\n",
      "                Tanh : torch.Size([5, 4, 68])\n",
      "  FlattenConsecutive : torch.Size([5, 2, 136])\n",
      "              Linear : torch.Size([5, 2, 68])\n",
      "         BatchNorm1d : torch.Size([5, 2, 68])\n",
      "                Tanh : torch.Size([5, 2, 68])\n",
      "  FlattenConsecutive : torch.Size([5, 136])\n",
      "              Linear : torch.Size([5, 68])\n",
      "         BatchNorm1d : torch.Size([5, 68])\n",
      "                Tanh : torch.Size([5, 68])\n",
      "              Linear : torch.Size([5, 27])\n"
     ]
    }
   ],
   "source": [
    "for layer in model.layers:\n",
    "    try:\n",
    "        print(f\"{layer.__class__.__name__:>20s} : {layer.out.shape}\")\n",
    "    except:\n",
    "        pass"
   ]
  },
  {
   "cell_type": "code",
   "execution_count": 55,
   "id": "fa625bc9-1d00-49a7-b440-f2b468e99597",
   "metadata": {
    "tags": []
   },
   "outputs": [
    {
     "name": "stdout",
     "output_type": "stream",
     "text": [
      "           Embedding : torch.Size([5, 8, 10])\n",
      "  FlattenConsecutive : torch.Size([5, 4, 20])\n",
      "              Linear : torch.Size([5, 4, 68])\n",
      "         BatchNorm1d : torch.Size([5, 4, 68])\n",
      "                Tanh : torch.Size([5, 4, 68])\n",
      "  FlattenConsecutive : torch.Size([5, 2, 136])\n",
      "              Linear : torch.Size([5, 2, 68])\n",
      "         BatchNorm1d : torch.Size([5, 2, 68])\n",
      "                Tanh : torch.Size([5, 2, 68])\n",
      "  FlattenConsecutive : torch.Size([5, 136])\n",
      "              Linear : torch.Size([5, 68])\n",
      "         BatchNorm1d : torch.Size([5, 68])\n",
      "                Tanh : torch.Size([5, 68])\n",
      "              Linear : torch.Size([5, 27])\n"
     ]
    }
   ],
   "source": [
    "for layer in model.layers:\n",
    "    try:\n",
    "        print(f\"{layer.__class__.__name__:>20s} : {layer.out.shape}\")\n",
    "    except:\n",
    "        pass"
   ]
  },
  {
   "cell_type": "code",
   "execution_count": 57,
   "id": "d306e8df-d9b0-4178-92ef-1565a9cc2fd5",
   "metadata": {
    "tags": []
   },
   "outputs": [
    {
     "data": {
      "text/plain": [
       "torch.Size([1, 1, 68])"
      ]
     },
     "execution_count": 57,
     "metadata": {},
     "output_type": "execute_result"
    }
   ],
   "source": [
    "model.layers[3].running_mean.shape"
   ]
  },
  {
   "cell_type": "markdown",
   "id": "77606a40-6bd0-4f48-bc41-3e295d312a8e",
   "metadata": {
    "tags": []
   },
   "source": [
    "## scratch space 2"
   ]
  },
  {
   "cell_type": "code",
   "execution_count": 76,
   "id": "df348270-ddef-4818-a46a-91c66ef366f0",
   "metadata": {
    "tags": []
   },
   "outputs": [
    {
     "data": {
      "text/plain": [
       "torch.Size([5, 200])"
      ]
     },
     "execution_count": 76,
     "metadata": {},
     "output_type": "execute_result"
    }
   ],
   "source": [
    "tmp = torch.randn(5, 80) @ torch.randn(80, 200) + torch.randn(200)\n",
    "tmp.shape"
   ]
  },
  {
   "cell_type": "code",
   "execution_count": 77,
   "id": "c4535b82-6707-4e64-9767-fbc296a88c19",
   "metadata": {
    "tags": []
   },
   "outputs": [
    {
     "data": {
      "text/plain": [
       "torch.Size([5, 4, 200])"
      ]
     },
     "execution_count": 77,
     "metadata": {},
     "output_type": "execute_result"
    }
   ],
   "source": [
    "tmp = torch.randn(5, 4, 20) @ torch.randn(20, 200) + torch.randn(200)\n",
    "tmp.shape"
   ]
  },
  {
   "cell_type": "code",
   "execution_count": 123,
   "id": "1b45ad57-809a-4f06-a966-6a373ae5eee2",
   "metadata": {
    "tags": []
   },
   "outputs": [
    {
     "data": {
      "text/plain": [
       "tensor([[0],\n",
       "        [1],\n",
       "        [2],\n",
       "        [3],\n",
       "        [4],\n",
       "        [5],\n",
       "        [6],\n",
       "        [7]])"
      ]
     },
     "execution_count": 123,
     "metadata": {},
     "output_type": "execute_result"
    }
   ],
   "source": [
    "e1 = torch.tensor(range(8)).view(-1, 1)\n",
    "e1"
   ]
  },
  {
   "cell_type": "code",
   "execution_count": 124,
   "id": "5d3ba9a3-d362-4907-9e8f-ad7330919d49",
   "metadata": {
    "tags": []
   },
   "outputs": [
    {
     "data": {
      "text/plain": [
       "torch.Size([8, 1])"
      ]
     },
     "execution_count": 124,
     "metadata": {},
     "output_type": "execute_result"
    }
   ],
   "source": [
    "e1.shape"
   ]
  },
  {
   "cell_type": "code",
   "execution_count": 125,
   "id": "8f9500e9-6f0c-4762-a7b4-f169ee136a32",
   "metadata": {
    "tags": []
   },
   "outputs": [
    {
     "data": {
      "text/plain": [
       "tensor([[0, 1, 2, 3, 4, 5, 6, 7]])"
      ]
     },
     "execution_count": 125,
     "metadata": {},
     "output_type": "execute_result"
    }
   ],
   "source": [
    "e2 = torch.tensor(range(8)).view(1, -1)\n",
    "e2"
   ]
  },
  {
   "cell_type": "code",
   "execution_count": 126,
   "id": "ce49a170-56fa-4583-9bc6-b4193127ec45",
   "metadata": {
    "tags": []
   },
   "outputs": [
    {
     "data": {
      "text/plain": [
       "torch.Size([1, 8])"
      ]
     },
     "execution_count": 126,
     "metadata": {},
     "output_type": "execute_result"
    }
   ],
   "source": [
    "e2.shape"
   ]
  },
  {
   "cell_type": "code",
   "execution_count": 127,
   "id": "bd81da82-250a-4da7-b967-eccb45b6ab36",
   "metadata": {
    "tags": []
   },
   "outputs": [
    {
     "data": {
      "text/plain": [
       "tensor([[0],\n",
       "        [2],\n",
       "        [4],\n",
       "        [6]])"
      ]
     },
     "execution_count": 127,
     "metadata": {},
     "output_type": "execute_result"
    }
   ],
   "source": [
    "e1[::2,:]"
   ]
  },
  {
   "cell_type": "code",
   "execution_count": 128,
   "id": "50b63d21-e4ea-41cf-b043-c7b1e4480c73",
   "metadata": {
    "tags": []
   },
   "outputs": [
    {
     "data": {
      "text/plain": [
       "tensor([[1],\n",
       "        [3],\n",
       "        [5],\n",
       "        [7]])"
      ]
     },
     "execution_count": 128,
     "metadata": {},
     "output_type": "execute_result"
    }
   ],
   "source": [
    "e1[1::2,:]"
   ]
  },
  {
   "cell_type": "code",
   "execution_count": 129,
   "id": "0a1fdb7a-919b-4ea9-b76c-1acaa78ca39a",
   "metadata": {
    "tags": []
   },
   "outputs": [
    {
     "data": {
      "text/plain": [
       "tensor([[0],\n",
       "        [2],\n",
       "        [4],\n",
       "        [6],\n",
       "        [1],\n",
       "        [3],\n",
       "        [5],\n",
       "        [7]])"
      ]
     },
     "execution_count": 129,
     "metadata": {},
     "output_type": "execute_result"
    }
   ],
   "source": [
    "torch.cat([e1[::2,:], e1[1::2,:]], dim=0)"
   ]
  },
  {
   "cell_type": "code",
   "execution_count": 130,
   "id": "0655e92f-7f12-4f60-a543-dfed14bd3538",
   "metadata": {
    "tags": []
   },
   "outputs": [
    {
     "data": {
      "text/plain": [
       "tensor([[0, 1],\n",
       "        [2, 3],\n",
       "        [4, 5],\n",
       "        [6, 7]])"
      ]
     },
     "execution_count": 130,
     "metadata": {},
     "output_type": "execute_result"
    }
   ],
   "source": [
    "e3 = torch.cat([e1[::2,:], e1[1::2,:]], dim=1)\n",
    "e3"
   ]
  },
  {
   "cell_type": "code",
   "execution_count": 131,
   "id": "7fe80283-de4e-4a8c-86f5-cb405c55f010",
   "metadata": {
    "tags": []
   },
   "outputs": [
    {
     "data": {
      "text/plain": [
       "tensor([[0, 1],\n",
       "        [2, 3],\n",
       "        [4, 5],\n",
       "        [6, 7]])"
      ]
     },
     "execution_count": 131,
     "metadata": {},
     "output_type": "execute_result"
    }
   ],
   "source": [
    "e4 = e1.view(4,2)\n",
    "e4"
   ]
  },
  {
   "cell_type": "code",
   "execution_count": 133,
   "id": "837b7078-a345-4091-badc-10cd4d450362",
   "metadata": {
    "tags": []
   },
   "outputs": [
    {
     "data": {
      "text/plain": [
       "tensor([[0, 1],\n",
       "        [2, 3],\n",
       "        [4, 5],\n",
       "        [6, 7]])"
      ]
     },
     "execution_count": 133,
     "metadata": {},
     "output_type": "execute_result"
    }
   ],
   "source": [
    "e5 = e2.view(4,2)\n",
    "e5"
   ]
  },
  {
   "cell_type": "code",
   "execution_count": 134,
   "id": "70c7ed93-27d7-44ea-9036-4d93d7a3a1fb",
   "metadata": {
    "tags": []
   },
   "outputs": [
    {
     "data": {
      "text/plain": [
       "(torch.Size([8, 1]), torch.Size([4, 2]), torch.Size([4, 2]))"
      ]
     },
     "execution_count": 134,
     "metadata": {},
     "output_type": "execute_result"
    }
   ],
   "source": [
    "e1.shape, e4.shape, e5.shape"
   ]
  },
  {
   "cell_type": "code",
   "execution_count": 135,
   "id": "4f6c720a-02aa-4e9f-b6a8-732c7fd3caf4",
   "metadata": {
    "tags": []
   },
   "outputs": [
    {
     "data": {
      "text/plain": [
       "tensor(True)"
      ]
     },
     "execution_count": 135,
     "metadata": {},
     "output_type": "execute_result"
    }
   ],
   "source": [
    "(e4 == e5).all()"
   ]
  },
  {
   "cell_type": "markdown",
   "id": "d6a7883c-f960-4941-895e-2420654df072",
   "metadata": {},
   "source": [
    "## train model"
   ]
  },
  {
   "cell_type": "code",
   "execution_count": 33,
   "id": "fb68d9de-a70b-4cd2-b80d-e58e07f5a12a",
   "metadata": {
    "tags": []
   },
   "outputs": [],
   "source": [
    "batch_size = 32"
   ]
  },
  {
   "cell_type": "code",
   "execution_count": 58,
   "id": "3a0252ca-e896-4f82-8129-9344688cf95a",
   "metadata": {
    "tags": []
   },
   "outputs": [
    {
     "name": "stderr",
     "output_type": "stream",
     "text": [
      "100%|████████████████████████████████████████████████████████████████████████████| 200000/200000 [03:22<00:00, 986.07it/s]\n"
     ]
    }
   ],
   "source": [
    "loglossi = []\n",
    "lossi = []\n",
    "STEPS = 200_000\n",
    "# STEPS = 10_000\n",
    "for i in tqdm(range(STEPS)):\n",
    "    # mini-batch\n",
    "    ix = torch.randint(0, Xtr.shape[0], (batch_size,))\n",
    "    Xb, Yb = Xtr[ix], Ytr[ix]\n",
    "    # forward\n",
    "    logits = model(Xb)\n",
    "    loss = F.cross_entropy(logits, Yb)\n",
    "\n",
    "    # backward\n",
    "    for layer in model.layers:\n",
    "        layer.out.retain_grad()\n",
    "    for p in parameters:\n",
    "        p.grad = None\n",
    "    loss.backward()\n",
    "\n",
    "    # update\n",
    "    lr = 0.1 if i < STEPS//2 else 0.01\n",
    "    for p in parameters:\n",
    "        p.data += -lr * p.grad\n",
    "        \n",
    "    # tracking\n",
    "    loglossi.append(loss.log10().item())\n",
    "    lossi.append(loss.item())\n",
    "    \n",
    "    # break"
   ]
  },
  {
   "cell_type": "code",
   "execution_count": 59,
   "id": "01ebdd2c-bf0a-4556-8bf7-fdc9d377aee7",
   "metadata": {
    "tags": []
   },
   "outputs": [
    {
     "data": {
      "image/png": "[encoded data removed]",
      "text/plain": [
       "<Figure size 1200x300 with 1 Axes>"
      ]
     },
     "metadata": {},
     "output_type": "display_data"
    }
   ],
   "source": [
    "group_size = 200\n",
    "plt.figure(figsize=(12,3))\n",
    "plt.plot(\n",
    "    torch.arange(len(lossi)).view(-1, group_size).float().mean(1),\n",
    "    torch.tensor(lossi).view(-1, group_size).mean(1)\n",
    ")\n",
    "plt.grid()\n",
    "plt.show()"
   ]
  },
  {
   "cell_type": "markdown",
   "id": "5c3ca834-3a9d-4df4-9191-29de2b560d85",
   "metadata": {
    "tags": []
   },
   "source": [
    "## compute loss on train/dev/test"
   ]
  },
  {
   "cell_type": "code",
   "execution_count": 60,
   "id": "062bb895-e5ad-440d-baac-987850fb6c01",
   "metadata": {
    "tags": []
   },
   "outputs": [],
   "source": [
    "for layer in model.layers:\n",
    "    layer.training = False"
   ]
  },
  {
   "cell_type": "code",
   "execution_count": 61,
   "id": "693a38b5-b71f-4c0a-875b-d134b4a30503",
   "metadata": {
    "tags": []
   },
   "outputs": [],
   "source": [
    "def eval_dataset(X, Y):\n",
    "    with torch.no_grad():\n",
    "        logits = model(X)\n",
    "        loss = F.cross_entropy(logits, Y)\n",
    "        print(loss.item())"
   ]
  },
  {
   "cell_type": "code",
   "execution_count": 62,
   "id": "e43e222c-36a5-4666-9502-d10b3c17d5e4",
   "metadata": {
    "tags": []
   },
   "outputs": [
    {
     "name": "stdout",
     "output_type": "stream",
     "text": [
      "1.9229323863983154\n",
      "2.02085280418396\n"
     ]
    }
   ],
   "source": [
    "eval_dataset(Xtr, Ytr)\n",
    "eval_dataset(Xdv, Ydv)\n",
    "# eval_dataset(Xte, Yte)"
   ]
  },
  {
   "cell_type": "markdown",
   "id": "4398f0d6-cd91-4f4f-b8c5-80ead996a696",
   "metadata": {},
   "source": [
    "## visualize the embedding"
   ]
  },
  {
   "cell_type": "code",
   "execution_count": 63,
   "id": "b463739c-330e-42c3-8107-5e656f811599",
   "metadata": {
    "tags": []
   },
   "outputs": [],
   "source": [
    "from sklearn.manifold import TSNE"
   ]
  },
  {
   "cell_type": "code",
   "execution_count": 64,
   "id": "28d4aeaa-9ca1-4648-baa2-de4321162752",
   "metadata": {
    "tags": []
   },
   "outputs": [],
   "source": [
    "tsne = TSNE(n_components=2, verbose=1, random_state=12345, perplexity=3)\n",
    "# tsne = TSNE(n_components=2, verbose=1, random_state=123)"
   ]
  },
  {
   "cell_type": "code",
   "execution_count": 65,
   "id": "f04c0eab-e071-4c37-9782-c6fa6b5f1c23",
   "metadata": {
    "tags": []
   },
   "outputs": [
    {
     "name": "stdout",
     "output_type": "stream",
     "text": [
      "[t-SNE] Computing 10 nearest neighbors...\n",
      "[t-SNE] Indexed 27 samples in 0.001s...\n",
      "[t-SNE] Computed neighbors for 27 samples in 0.003s...\n",
      "[t-SNE] Computed conditional probabilities for sample 27 / 27\n",
      "[t-SNE] Mean sigma: 1.107070\n",
      "[t-SNE] KL divergence after 250 iterations with early exaggeration: 67.295418\n",
      "[t-SNE] KL divergence after 1000 iterations: 0.698029\n"
     ]
    }
   ],
   "source": [
    "z = tsne.fit_transform(model.layers[0].weight.detach().numpy())"
   ]
  },
  {
   "cell_type": "code",
   "execution_count": 66,
   "id": "c8b12d64-8966-4ac8-ae21-69d275f63495",
   "metadata": {
    "tags": []
   },
   "outputs": [
    {
     "data": {
      "text/plain": [
       "(torch.Size([27, 10]), (27, 2))"
      ]
     },
     "execution_count": 66,
     "metadata": {},
     "output_type": "execute_result"
    }
   ],
   "source": [
    "model.layers[0].weight.shape, z.shape"
   ]
  },
  {
   "cell_type": "code",
   "execution_count": 67,
   "id": "c553e122-a9af-4c86-bae0-7846a34fd322",
   "metadata": {
    "tags": []
   },
   "outputs": [
    {
     "data": {
      "image/png": "[encoded data removed]",
      "text/plain": [
       "<Figure size 640x480 with 1 Axes>"
      ]
     },
     "metadata": {},
     "output_type": "display_data"
    }
   ],
   "source": [
    "plt.scatter(z[:,0].data, z[:,1].data, s=600)\n",
    "for i in range(z.shape[0]):\n",
    "    if itos[i] in 'aeiou':\n",
    "        c = 'red'\n",
    "    else:\n",
    "        c = 'white'\n",
    "    plt.text(z[i,0].item(), z[i,1].item(), itos[i], color=c)"
   ]
  },
  {
   "cell_type": "markdown",
   "id": "93eaae2a-92fe-4bce-9741-23ab967adeb7",
   "metadata": {},
   "source": [
    "# generate names"
   ]
  },
  {
   "cell_type": "code",
   "execution_count": 68,
   "id": "c81d5977-391c-4134-b3e6-708dabfe6474",
   "metadata": {
    "tags": []
   },
   "outputs": [],
   "source": [
    "g = torch.Generator().manual_seed(2147483647 + 10)"
   ]
  },
  {
   "cell_type": "code",
   "execution_count": 69,
   "id": "c7160604-1fb5-40c5-9c96-9e0243db4d1b",
   "metadata": {
    "tags": []
   },
   "outputs": [
    {
     "name": "stdout",
     "output_type": "stream",
     "text": [
      "carmah.\n",
      "amorie.\n",
      "khyrir.\n",
      "xithiyah.\n",
      "cassie.\n",
      "rahnella.\n",
      "elystor.\n",
      "quinnlee.\n",
      "raiceria.\n",
      "desleigh.\n"
     ]
    }
   ],
   "source": [
    "for _ in range(10):\n",
    "    out = []\n",
    "    context = [0] * block_size\n",
    "    while True:\n",
    "        logits = model(torch.tensor([context]))\n",
    "        probs = F.softmax(logits, dim=1)\n",
    "        ix = torch.multinomial(probs, num_samples=1, generator=g).item()\n",
    "        context = context[1:] + [ix]\n",
    "        out.append(ix)\n",
    "        if ix == 0:\n",
    "            break\n",
    "    print(''.join(itos[i] for i in out))"
   ]
  },
  {
   "cell_type": "code",
   "execution_count": null,
   "id": "692884f6-279f-4e2a-9b8c-4122aba41bb4",
   "metadata": {},
   "outputs": [],
   "source": []
  }
 ],
 "metadata": {
  "kernelspec": {
   "display_name": "Python 3 (ipykernel)",
   "language": "python",
   "name": "python3"
  },
  "language_info": {
   "codemirror_mode": {
    "name": "ipython",
    "version": 3
   },
   "file_extension": ".py",
   "mimetype": "text/x-python",
   "name": "python",
   "nbconvert_exporter": "python",
   "pygments_lexer": "ipython3",
   "version": "3.10.9"
  }
 },
 "nbformat": 4,
 "nbformat_minor": 5
}
