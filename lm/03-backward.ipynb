{
 "cells": [
  {
   "cell_type": "code",
   "execution_count": 19,
   "id": "2a88455e-b1ea-4cec-821c-e358bd34d1f9",
   "metadata": {
    "tags": []
   },
   "outputs": [],
   "source": [
    "import random\n",
    "from tqdm import tqdm\n",
    "import matplotlib.pyplot as plt\n",
    "\n",
    "import torch\n",
    "import torch.nn.functional as F"
   ]
  },
  {
   "cell_type": "markdown",
   "id": "34a9f7a0-079a-4671-a3fe-9f5749b09f27",
   "metadata": {},
   "source": [
    "# read data"
   ]
  },
  {
   "cell_type": "code",
   "execution_count": 2,
   "id": "cf7b725e-604d-4b00-a5f6-32b98e41bf9f",
   "metadata": {
    "tags": []
   },
   "outputs": [],
   "source": [
    "words = open('../data/names.txt', 'r').read().splitlines()"
   ]
  },
  {
   "cell_type": "code",
   "execution_count": 3,
   "id": "2654383b-46e5-4d9a-b6a8-af4cf1983255",
   "metadata": {
    "tags": []
   },
   "outputs": [
    {
     "data": {
      "text/plain": [
       "32033"
      ]
     },
     "execution_count": 3,
     "metadata": {},
     "output_type": "execute_result"
    }
   ],
   "source": [
    "len(words)"
   ]
  },
  {
   "cell_type": "code",
   "execution_count": 4,
   "id": "6f2300b9-9a5b-489e-93aa-cf3afc1067cf",
   "metadata": {
    "tags": []
   },
   "outputs": [
    {
     "data": {
      "text/plain": [
       "['emma', 'olivia', 'ava', 'isabella', 'sophia']"
      ]
     },
     "execution_count": 4,
     "metadata": {},
     "output_type": "execute_result"
    }
   ],
   "source": [
    "words[:5]"
   ]
  },
  {
   "cell_type": "code",
   "execution_count": 5,
   "id": "e3db4cab-6843-4d45-82ad-00c81a3a6b6c",
   "metadata": {
    "tags": []
   },
   "outputs": [],
   "source": [
    "chars = sorted(list(set(''.join(words))))"
   ]
  },
  {
   "cell_type": "markdown",
   "id": "35dcdea4-42ef-411b-a09b-8d232a85ff32",
   "metadata": {},
   "source": [
    "# util"
   ]
  },
  {
   "cell_type": "code",
   "execution_count": 6,
   "id": "10c6c396-83f5-4761-a383-2c2c222821d5",
   "metadata": {
    "tags": []
   },
   "outputs": [],
   "source": [
    "itos = {}\n",
    "itos[0] = '.'\n",
    "itos |= {i+1: s for i, s in enumerate(chars)}"
   ]
  },
  {
   "cell_type": "code",
   "execution_count": 7,
   "id": "ac357634-10b0-4ce2-9bba-c26c054871f5",
   "metadata": {
    "tags": []
   },
   "outputs": [],
   "source": [
    "stoi = {s: i for i, s in itos.items()}"
   ]
  },
  {
   "cell_type": "code",
   "execution_count": 8,
   "id": "13a32d13-4ac7-4eaa-949d-be8fa20c5db2",
   "metadata": {
    "tags": []
   },
   "outputs": [],
   "source": [
    "def cmp(s, dt, t):\n",
    "    \"\"\"\n",
    "    s is the message, dt is our grad, t is from pytorch\n",
    "    \"\"\"\n",
    "    ex = torch.all(dt == t.grad).item()\n",
    "    app = torch.allclose(dt, t.grad)\n",
    "    maxdiff = (dt - t.grad).abs().max().item()\n",
    "    print(f'{s:15s} | exact: {str(ex):5s} | approximate: {str(app):5s} | maxdiff: {maxdiff}')"
   ]
  },
  {
   "cell_type": "markdown",
   "id": "ae43767f-7d41-44a2-b858-8db606429e07",
   "metadata": {},
   "source": [
    "# Build a neural language model"
   ]
  },
  {
   "cell_type": "markdown",
   "id": "b4b0830c-c437-4511-84a1-3ff111efb085",
   "metadata": {},
   "source": [
    "## prepare data"
   ]
  },
  {
   "cell_type": "code",
   "execution_count": 9,
   "id": "94174bfd-a7bf-4538-84e1-de587ec865d3",
   "metadata": {
    "tags": []
   },
   "outputs": [],
   "source": [
    "def build_dataset(data):\n",
    "    block_size = 3\n",
    "    X, Y = [], []\n",
    "    for w in data[:]:\n",
    "        # print(w)\n",
    "        context = [0] * block_size\n",
    "        for ch in w + '.':\n",
    "            ix = stoi[ch]\n",
    "            # print(''.join([itos[i] for i in context]), '--->', itos[ix])\n",
    "            X.append(context)\n",
    "            Y.append(ix)\n",
    "            context = context[1:] + [ix]        \n",
    "\n",
    "    X = torch.tensor(X)\n",
    "    Y = torch.tensor(Y)        \n",
    "    print(X.shape, Y.shape)\n",
    "    return X, Y"
   ]
  },
  {
   "cell_type": "code",
   "execution_count": 10,
   "id": "ad114b7b-5531-430e-9e78-ea5b2bba8919",
   "metadata": {
    "tags": []
   },
   "outputs": [
    {
     "name": "stdout",
     "output_type": "stream",
     "text": [
      "torch.Size([182625, 3]) torch.Size([182625])\n",
      "torch.Size([22655, 3]) torch.Size([22655])\n",
      "torch.Size([22866, 3]) torch.Size([22866])\n"
     ]
    }
   ],
   "source": [
    "random.seed(42)\n",
    "random.shuffle(words)\n",
    "n1 = int(0.8*len(words))\n",
    "n2 = int(0.9*len(words))\n",
    "         \n",
    "Xtr, Ytr = build_dataset(words[:n1])\n",
    "Xdv, Ydv = build_dataset(words[n1:n2])\n",
    "Xte, Yte = build_dataset(words[n2:])                               "
   ]
  },
  {
   "cell_type": "markdown",
   "id": "7ee70e12-f9fd-4b6e-9be8-52f517b727a9",
   "metadata": {},
   "source": [
    "# Train a neural language model"
   ]
  },
  {
   "cell_type": "code",
   "execution_count": 11,
   "id": "fc56f0f6-6e30-4de4-abc9-18d089ad5517",
   "metadata": {
    "tags": []
   },
   "outputs": [],
   "source": [
    "n_emb = 10\n",
    "n_hidden = 200\n",
    "block_size = 3\n",
    "\n",
    "C = torch.randn(len(itos), n_emb)\n",
    "w1 = torch.randn(n_emb*block_size, n_hidden)\n",
    "b1 = torch.randn(n_hidden)\n",
    "w2 = torch.randn(n_hidden, len(itos)) * 0.02\n",
    "b2 = torch.randn(len(itos)) * 0.01\n",
    "parameters = [C, w1, b1, w2, b2]"
   ]
  },
  {
   "cell_type": "code",
   "execution_count": 12,
   "id": "53673d8b-8971-479b-84dc-5fe3e719c221",
   "metadata": {
    "tags": []
   },
   "outputs": [
    {
     "data": {
      "text/plain": [
       "11897"
      ]
     },
     "execution_count": 12,
     "metadata": {},
     "output_type": "execute_result"
    }
   ],
   "source": [
    "sum(p.nelement() for p in parameters)"
   ]
  },
  {
   "cell_type": "code",
   "execution_count": 13,
   "id": "fb68d9de-a70b-4cd2-b80d-e58e07f5a12a",
   "metadata": {
    "tags": []
   },
   "outputs": [],
   "source": [
    "for p in parameters:\n",
    "    p.requires_grad = True"
   ]
  },
  {
   "cell_type": "code",
   "execution_count": 14,
   "id": "61952d6a-324f-4649-9a86-7438d20f33be",
   "metadata": {},
   "outputs": [],
   "source": [
    "# mini-batch\n",
    "batch_size = 32\n",
    "n = batch_size\n",
    "ix = torch.randint(0, Xtr.shape[0], (batch_size,))\n",
    "Xb, Yb = Xtr[ix], Ytr[ix]"
   ]
  },
  {
   "cell_type": "code",
   "execution_count": 15,
   "id": "70ac3b20-18e9-4a63-a517-dc680046b78f",
   "metadata": {},
   "outputs": [
    {
     "data": {
      "text/plain": [
       "tensor(3.3069, grad_fn=<NegBackward0>)"
      ]
     },
     "execution_count": 15,
     "metadata": {},
     "output_type": "execute_result"
    }
   ],
   "source": [
    "# forward\n",
    "emb = C[Xb] # (32, 3, 2)\n",
    "embcat = emb.view(emb.shape[0], -1)\n",
    "hpreact = embcat @ w1 + b1\n",
    "h = hpreact.tanh() # (32, 100)\n",
    "logits = h @ w2 + b2 # (32, 27)\n",
    "# loss = F.cross_entropy(logits, Yb)\n",
    "logit_maxes = logits.max(1, keepdim=True).values\n",
    "norm_logits = logits - logit_maxes\n",
    "counts = norm_logits.exp()\n",
    "counts_sum = counts.sum(1, keepdim=True)\n",
    "counts_sum_inv = counts_sum**-1\n",
    "probs = counts * counts_sum_inv\n",
    "logprobs = probs.log()\n",
    "loss = -logprobs[range(n), Yb].mean()\n",
    "\n",
    "# backward\n",
    "for p in parameters:\n",
    "    p.grad = None\n",
    "for t in [\n",
    "    logprobs, \n",
    "    probs, \n",
    "    counts_sum_inv,\n",
    "    counts,\n",
    "    counts_sum,\n",
    "    norm_logits,\n",
    "    logits,\n",
    "    logit_maxes,\n",
    "    h,\n",
    "    hpreact,\n",
    "    embcat,\n",
    "    emb\n",
    "]:\n",
    "    t.retain_grad()\n",
    "    \n",
    "loss.backward()\n",
    "loss"
   ]
  },
  {
   "cell_type": "markdown",
   "id": "903c3098-94f5-45ee-9bf9-3077add80bff",
   "metadata": {
    "tags": []
   },
   "source": [
    "# maunally compute grads"
   ]
  },
  {
   "cell_type": "code",
   "execution_count": 16,
   "id": "12c16361-7f22-4d7d-9100-9ce779046b91",
   "metadata": {
    "tags": []
   },
   "outputs": [
    {
     "name": "stdout",
     "output_type": "stream",
     "text": [
      "dC              | exact: True  | approximate: True  | maxdiff: 0.0\n",
      "demb            | exact: True  | approximate: True  | maxdiff: 0.0\n",
      "db1             | exact: True  | approximate: True  | maxdiff: 0.0\n",
      "dw1             | exact: True  | approximate: True  | maxdiff: 0.0\n",
      "dembcat         | exact: True  | approximate: True  | maxdiff: 0.0\n",
      "hpreact         | exact: True  | approximate: True  | maxdiff: 0.0\n",
      "db2             | exact: True  | approximate: True  | maxdiff: 0.0\n",
      "dw2             | exact: True  | approximate: True  | maxdiff: 0.0\n",
      "dh              | exact: True  | approximate: True  | maxdiff: 0.0\n",
      "dlogit_maxes    | exact: True  | approximate: True  | maxdiff: 0.0\n",
      "dlogits         | exact: True  | approximate: True  | maxdiff: 0.0\n",
      "dnorm_logits    | exact: True  | approximate: True  | maxdiff: 0.0\n",
      "dcounts_sum     | exact: True  | approximate: True  | maxdiff: 0.0\n",
      "dcounts         | exact: True  | approximate: True  | maxdiff: 0.0\n",
      "dcounts_sum_inv | exact: True  | approximate: True  | maxdiff: 0.0\n",
      "probs           | exact: True  | approximate: True  | maxdiff: 0.0\n",
      "logprobs        | exact: True  | approximate: True  | maxdiff: 0.0\n"
     ]
    }
   ],
   "source": [
    "dlogprobs = torch.zeros_like(logprobs)\n",
    "dlogprobs[range(n), Yb] = -1.0/n\n",
    "dprobs = 1.0/probs * dlogprobs\n",
    "dcounts_sum_inv = (counts * dprobs).sum(1,keepdim=True)\n",
    "dcounts = (counts_sum_inv * dprobs) # part 1\n",
    "dcounts_sum = -1*counts_sum**-2 * dcounts_sum_inv\n",
    "dcounts += torch.ones_like(counts) * dcounts_sum\n",
    "dnorm_logits = counts * dcounts\n",
    "dlogits = 1 * dnorm_logits\n",
    "dlogit_maxes = (-1 * dnorm_logits).sum(1, keepdim=True)\n",
    "for i in range(n):\n",
    "    tmp = logits.max(1, keepdim=True).indices.squeeze()[i]\n",
    "    dlogits[i, tmp] += dlogit_maxes[i][0]\n",
    "dh = dlogits @ w2.T\n",
    "dw2 = h.T @ dlogits\n",
    "db2 = dlogits.sum(0)\n",
    "dhpreact = (1 - h**2) * dh\n",
    "dembcat = dhpreact @ w1.T\n",
    "dw1 = embcat.T @ dhpreact\n",
    "db1 = dhpreact.sum(0)\n",
    "demb = dembcat.view(emb.shape)\n",
    "dC = torch.zeros_like(C)\n",
    "for k in range(Xb.shape[0]):\n",
    "    for j in range(Xb.shape[1]):\n",
    "        ix = Xb[k, j]\n",
    "        dC[ix] += demb[k, j]\n",
    "# --------------------------------\n",
    "cmp('dC', dC, C)\n",
    "cmp('demb', demb, emb)\n",
    "cmp('db1', db1, b1)\n",
    "cmp('dw1', dw1, w1)\n",
    "cmp('dembcat', dembcat, embcat)\n",
    "cmp('hpreact', dhpreact, hpreact)\n",
    "cmp('db2', db2, b2)\n",
    "cmp('dw2', dw2, w2)\n",
    "cmp('dh', dh, h)\n",
    "cmp('dlogit_maxes', dlogit_maxes, logit_maxes)\n",
    "cmp('dlogits', dlogits, logits)\n",
    "cmp('dnorm_logits', dnorm_logits, norm_logits)\n",
    "cmp('dcounts_sum', dcounts_sum, counts_sum)\n",
    "cmp('dcounts', dcounts, counts)\n",
    "cmp('dcounts_sum_inv', dcounts_sum_inv, counts_sum_inv)\n",
    "cmp('probs', dprobs, probs)\n",
    "cmp('logprobs', dlogprobs, logprobs)"
   ]
  },
  {
   "cell_type": "markdown",
   "id": "7b386e89-155b-48a0-a266-2413495aa797",
   "metadata": {},
   "source": [
    "# combine functions"
   ]
  },
  {
   "cell_type": "code",
   "execution_count": 22,
   "id": "993368da-2d81-4f69-a115-93194bddb272",
   "metadata": {
    "tags": []
   },
   "outputs": [
    {
     "name": "stdout",
     "output_type": "stream",
     "text": [
      "dlogits         | exact: False | approximate: True  | maxdiff: 5.9371814131736755e-09\n"
     ]
    }
   ],
   "source": [
    "dlogits = F.softmax(logits, 1)\n",
    "dlogits[range(n), Yb] -= 1\n",
    "dlogits /= n\n",
    "# --------------------------------\n",
    "cmp('dlogits', dlogits, logits)"
   ]
  },
  {
   "cell_type": "code",
   "execution_count": 27,
   "id": "a6414842-5f76-4f3f-9066-2c3d291971db",
   "metadata": {
    "tags": []
   },
   "outputs": [
    {
     "data": {
      "text/plain": [
       "(torch.Size([32, 27]), torch.Size([32, 27]), torch.Size([32]))"
      ]
     },
     "execution_count": 27,
     "metadata": {},
     "output_type": "execute_result"
    }
   ],
   "source": [
    "dlogits.shape, logits.shape, Yb.shape"
   ]
  },
  {
   "cell_type": "code",
   "execution_count": 44,
   "id": "ac498bf2-6e4e-4af5-bf79-d2924030c0e2",
   "metadata": {
    "tags": []
   },
   "outputs": [
    {
     "data": {
      "image/png": "[encoded data removed]",
      "text/plain": [
       "<Figure size 900x900 with 3 Axes>"
      ]
     },
     "metadata": {},
     "output_type": "display_data"
    }
   ],
   "source": [
    "plt.figure(figsize=(9,9))\n",
    "ax1 = plt.subplot(131)\n",
    "plt.imshow(logits.detach(), cmap='gray')\n",
    "plt.subplot(132, sharex = ax1)\n",
    "plt.imshow(F.one_hot(Yb, num_classes=logits.shape[1]), cmap='gray')\n",
    "plt.subplot(133, sharex = ax1)\n",
    "plt.imshow(dlogits.detach(), cmap='gray')\n",
    "plt.show()"
   ]
  },
  {
   "cell_type": "code",
   "execution_count": 51,
   "id": "b364dfd0-c2ed-4fba-9636-af11e914f735",
   "metadata": {
    "tags": []
   },
   "outputs": [
    {
     "data": {
      "text/plain": [
       "tensor(5.5879e-09, grad_fn=<MaxBackward1>)"
      ]
     },
     "execution_count": 51,
     "metadata": {},
     "output_type": "execute_result"
    }
   ],
   "source": [
    "dlogits.sum(1).abs().max()"
   ]
  },
  {
   "cell_type": "markdown",
   "id": "5c3ca834-3a9d-4df4-9191-29de2b560d85",
   "metadata": {
    "tags": []
   },
   "source": [
    "## compute loss on train/dev/test"
   ]
  },
  {
   "cell_type": "code",
   "execution_count": 17,
   "id": "693a38b5-b71f-4c0a-875b-d134b4a30503",
   "metadata": {
    "tags": []
   },
   "outputs": [],
   "source": [
    "def eval_dataset(X, Y):\n",
    "    with torch.no_grad():\n",
    "        emb = C[X] # (32, 3, 2)\n",
    "        h = (emb.view(emb.shape[0], -1) @ w1 + b1).tanh() # (32, 100)\n",
    "        logits = h @ w2 + b2 # (32, 27)\n",
    "        loss = F.cross_entropy(logits, Y)\n",
    "        print(loss.item())"
   ]
  },
  {
   "cell_type": "code",
   "execution_count": 18,
   "id": "52ebf137-fa5d-4a41-bd1d-3c0e12113d07",
   "metadata": {
    "tags": []
   },
   "outputs": [
    {
     "name": "stdout",
     "output_type": "stream",
     "text": [
      "3.3451297283172607\n",
      "3.3441214561462402\n"
     ]
    }
   ],
   "source": [
    "eval_dataset(Xtr, Ytr)\n",
    "eval_dataset(Xdv, Ydv)\n",
    "# eval_dataset(Xte, Yte)"
   ]
  },
  {
   "cell_type": "code",
   "execution_count": null,
   "id": "692884f6-279f-4e2a-9b8c-4122aba41bb4",
   "metadata": {},
   "outputs": [],
   "source": []
  }
 ],
 "metadata": {
  "kernelspec": {
   "display_name": "Python 3 (ipykernel)",
   "language": "python",
   "name": "python3"
  },
  "language_info": {
   "codemirror_mode": {
    "name": "ipython",
    "version": 3
   },
   "file_extension": ".py",
   "mimetype": "text/x-python",
   "name": "python",
   "nbconvert_exporter": "python",
   "pygments_lexer": "ipython3",
   "version": "3.10.6"
  }
 },
 "nbformat": 4,
 "nbformat_minor": 5
}
