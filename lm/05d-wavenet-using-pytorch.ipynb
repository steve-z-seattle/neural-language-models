{
 "cells": [
  {
   "cell_type": "code",
   "execution_count": 17,
   "id": "2a88455e-b1ea-4cec-821c-e358bd34d1f9",
   "metadata": {
    "tags": []
   },
   "outputs": [],
   "source": [
    "import random\n",
    "from tqdm import tqdm\n",
    "import matplotlib.pyplot as plt\n",
    "\n",
    "import torch\n",
    "import torch.nn as nn\n",
    "import torch.nn.functional as F"
   ]
  },
  {
   "cell_type": "markdown",
   "id": "34a9f7a0-079a-4671-a3fe-9f5749b09f27",
   "metadata": {},
   "source": [
    "# read data"
   ]
  },
  {
   "cell_type": "code",
   "execution_count": 18,
   "id": "cf7b725e-604d-4b00-a5f6-32b98e41bf9f",
   "metadata": {
    "tags": []
   },
   "outputs": [],
   "source": [
    "words = open('../data/names.txt', 'r').read().splitlines()"
   ]
  },
  {
   "cell_type": "code",
   "execution_count": 19,
   "id": "2654383b-46e5-4d9a-b6a8-af4cf1983255",
   "metadata": {
    "tags": []
   },
   "outputs": [
    {
     "data": {
      "text/plain": [
       "32033"
      ]
     },
     "execution_count": 19,
     "metadata": {},
     "output_type": "execute_result"
    }
   ],
   "source": [
    "len(words)"
   ]
  },
  {
   "cell_type": "code",
   "execution_count": 20,
   "id": "6f2300b9-9a5b-489e-93aa-cf3afc1067cf",
   "metadata": {
    "tags": []
   },
   "outputs": [
    {
     "data": {
      "text/plain": [
       "['emma', 'olivia', 'ava', 'isabella', 'sophia']"
      ]
     },
     "execution_count": 20,
     "metadata": {},
     "output_type": "execute_result"
    }
   ],
   "source": [
    "words[:5]"
   ]
  },
  {
   "cell_type": "code",
   "execution_count": 21,
   "id": "e3db4cab-6843-4d45-82ad-00c81a3a6b6c",
   "metadata": {
    "tags": []
   },
   "outputs": [],
   "source": [
    "chars = sorted(list(set(''.join(words))))"
   ]
  },
  {
   "cell_type": "markdown",
   "id": "35dcdea4-42ef-411b-a09b-8d232a85ff32",
   "metadata": {},
   "source": [
    "# util"
   ]
  },
  {
   "cell_type": "code",
   "execution_count": 22,
   "id": "10c6c396-83f5-4761-a383-2c2c222821d5",
   "metadata": {
    "tags": []
   },
   "outputs": [],
   "source": [
    "itos = {}\n",
    "itos[0] = '.'\n",
    "itos |= {i+1: s for i, s in enumerate(chars)}"
   ]
  },
  {
   "cell_type": "code",
   "execution_count": 23,
   "id": "ac357634-10b0-4ce2-9bba-c26c054871f5",
   "metadata": {
    "tags": []
   },
   "outputs": [],
   "source": [
    "stoi = {s: i for i, s in itos.items()}"
   ]
  },
  {
   "cell_type": "code",
   "execution_count": 24,
   "id": "f9fd15b2-868c-4a24-a851-4fe2cb6cc507",
   "metadata": {
    "tags": []
   },
   "outputs": [
    {
     "data": {
      "text/plain": [
       "27"
      ]
     },
     "execution_count": 24,
     "metadata": {},
     "output_type": "execute_result"
    }
   ],
   "source": [
    "vocab_size = len(stoi)\n",
    "vocab_size"
   ]
  },
  {
   "cell_type": "markdown",
   "id": "ae43767f-7d41-44a2-b858-8db606429e07",
   "metadata": {},
   "source": [
    "# Build a neural language model"
   ]
  },
  {
   "cell_type": "markdown",
   "id": "b4b0830c-c437-4511-84a1-3ff111efb085",
   "metadata": {},
   "source": [
    "## prepare data"
   ]
  },
  {
   "cell_type": "code",
   "execution_count": 25,
   "id": "a7145292-1c7c-40ce-be6b-c423841505f7",
   "metadata": {
    "tags": []
   },
   "outputs": [],
   "source": [
    "block_size = 8"
   ]
  },
  {
   "cell_type": "code",
   "execution_count": 26,
   "id": "94174bfd-a7bf-4538-84e1-de587ec865d3",
   "metadata": {
    "tags": []
   },
   "outputs": [],
   "source": [
    "def build_dataset(data):\n",
    "    X, Y = [], []\n",
    "    for w in data[:]:\n",
    "        # print(w)\n",
    "        context = [0] * block_size\n",
    "        for ch in w + '.':\n",
    "            ix = stoi[ch]\n",
    "            # print(''.join([itos[i] for i in context]), '--->', itos[ix])\n",
    "            X.append(context)\n",
    "            Y.append(ix)\n",
    "            context = context[1:] + [ix]        \n",
    "\n",
    "    X = torch.tensor(X)\n",
    "    Y = torch.tensor(Y)        \n",
    "    print(X.shape, Y.shape)\n",
    "    return X, Y"
   ]
  },
  {
   "cell_type": "code",
   "execution_count": 27,
   "id": "ad114b7b-5531-430e-9e78-ea5b2bba8919",
   "metadata": {
    "tags": []
   },
   "outputs": [
    {
     "name": "stdout",
     "output_type": "stream",
     "text": [
      "torch.Size([182625, 8]) torch.Size([182625])\n",
      "torch.Size([22655, 8]) torch.Size([22655])\n",
      "torch.Size([22866, 8]) torch.Size([22866])\n"
     ]
    }
   ],
   "source": [
    "random.seed(42)\n",
    "random.shuffle(words)\n",
    "n1 = int(0.8*len(words))\n",
    "n2 = int(0.9*len(words))\n",
    "         \n",
    "Xtr, Ytr = build_dataset(words[:n1])\n",
    "Xdv, Ydv = build_dataset(words[n1:n2])\n",
    "Xte, Yte = build_dataset(words[n2:])                               "
   ]
  },
  {
   "cell_type": "markdown",
   "id": "643a24d2-39f2-4528-9a42-90138ea1278c",
   "metadata": {
    "tags": []
   },
   "source": [
    "# Some Modules"
   ]
  },
  {
   "cell_type": "code",
   "execution_count": 28,
   "id": "4d31b70c-7465-4045-888c-97be73b97dea",
   "metadata": {
    "tags": []
   },
   "outputs": [],
   "source": [
    "class FlattenConsecutive(nn.Module):\n",
    "    def __init__(self, n):\n",
    "        super().__init__()\n",
    "        self.n = n\n",
    "        \n",
    "    def __call__(self, x):\n",
    "        # print('FlattenConsecutive [steve]', x.shape)        \n",
    "        B, T, C = x.shape\n",
    "        x = x.view(B, T//self.n, C*self.n)\n",
    "        if x.shape[1] == 1:\n",
    "            x = x.squeeze(1)\n",
    "        self.out = x\n",
    "        return self.out    \n",
    "\n",
    "# ----------------------------------    \n",
    "class tt(nn.Module):\n",
    "    def __init__(self):\n",
    "        super().__init__()\n",
    "        \n",
    "    def __call__(self, x):\n",
    "        x = x.transpose(1, 2).contiguous()\n",
    "        self.out = x\n",
    "        return self.out\n",
    "    \n",
    "# ----------------------------------    \n",
    "class Swap(nn.Module):\n",
    "    def __init__(self):\n",
    "        super().__init__()\n",
    "        \n",
    "    def __call__(self, x):\n",
    "        # # print('Swap [steve]', x.shape)\n",
    "        # x = torch.swapaxes(x, 1, 2)\n",
    "        # # B, T, C = x.shape\n",
    "        # self.out = x\n",
    "        # return self.out\n",
    "        return x"
   ]
  },
  {
   "cell_type": "markdown",
   "id": "7ee70e12-f9fd-4b6e-9be8-52f517b727a9",
   "metadata": {},
   "source": [
    "# Train a neural language model"
   ]
  },
  {
   "cell_type": "markdown",
   "id": "ca4260ac-d1ec-4085-9fd6-efdeda9d15c7",
   "metadata": {
    "tags": []
   },
   "source": [
    "## define model"
   ]
  },
  {
   "cell_type": "code",
   "execution_count": 29,
   "id": "dc2b6c00-d23e-4ef9-96e0-dc2a94f9638c",
   "metadata": {
    "tags": []
   },
   "outputs": [
    {
     "name": "stdout",
     "output_type": "stream",
     "text": [
      "22397\n"
     ]
    }
   ],
   "source": [
    "n_embd = 10 # 24 # 10\n",
    "n_hidden = 68 # 128 # 68\n",
    "\n",
    "model = nn.Sequential(\n",
    "    nn.Embedding(vocab_size, n_embd),\n",
    "    # FlattenConsecutive(2), nn.Linear(n_embd * block_size, n_hidden, bias=False), Transpose(), nn.BatchNorm1d(n_hidden), nn.Tanh(),\n",
    "    # FlattenConsecutive(block_size), nn.Linear(n_embd * block_size, n_hidden, bias=False), nn.BatchNorm1d(n_hidden), nn.Tanh(),\n",
    "    FlattenConsecutive(2), nn.Linear(n_embd * 2, n_hidden, bias=False), tt(), nn.BatchNorm1d(n_hidden), tt(), nn.Tanh(),\n",
    "    FlattenConsecutive(2), nn.Linear(n_hidden * 2, n_hidden, bias=False), tt(), nn.BatchNorm1d(n_hidden), tt(), nn.Tanh(),\n",
    "    FlattenConsecutive(2), nn.Linear(n_hidden * 2, n_hidden, bias=False), nn.BatchNorm1d(n_hidden), nn.Tanh(),\n",
    "    nn.Linear(n_hidden, vocab_size),\n",
    ")\n",
    "\n",
    "# with torch.no_grad():\n",
    "#     model.layers[-1].weight *= 0.02\n",
    "\n",
    "parameters = model.parameters()\n",
    "print(sum(p.nelement() for p in parameters))\n",
    "for p in parameters:\n",
    "    p.requires_grad = True"
   ]
  },
  {
   "cell_type": "markdown",
   "id": "d6a7883c-f960-4941-895e-2420654df072",
   "metadata": {},
   "source": [
    "## train model"
   ]
  },
  {
   "cell_type": "code",
   "execution_count": 30,
   "id": "fb68d9de-a70b-4cd2-b80d-e58e07f5a12a",
   "metadata": {
    "tags": []
   },
   "outputs": [
    {
     "data": {
      "text/plain": [
       "Sequential(\n",
       "  (0): Embedding(27, 10)\n",
       "  (1): FlattenConsecutive()\n",
       "  (2): Linear(in_features=20, out_features=68, bias=False)\n",
       "  (3): tt()\n",
       "  (4): BatchNorm1d(68, eps=1e-05, momentum=0.1, affine=True, track_running_stats=True)\n",
       "  (5): tt()\n",
       "  (6): Tanh()\n",
       "  (7): FlattenConsecutive()\n",
       "  (8): Linear(in_features=136, out_features=68, bias=False)\n",
       "  (9): tt()\n",
       "  (10): BatchNorm1d(68, eps=1e-05, momentum=0.1, affine=True, track_running_stats=True)\n",
       "  (11): tt()\n",
       "  (12): Tanh()\n",
       "  (13): FlattenConsecutive()\n",
       "  (14): Linear(in_features=136, out_features=68, bias=False)\n",
       "  (15): BatchNorm1d(68, eps=1e-05, momentum=0.1, affine=True, track_running_stats=True)\n",
       "  (16): Tanh()\n",
       "  (17): Linear(in_features=68, out_features=27, bias=True)\n",
       ")"
      ]
     },
     "execution_count": 30,
     "metadata": {},
     "output_type": "execute_result"
    }
   ],
   "source": [
    "batch_size = 32\n",
    "model.train()"
   ]
  },
  {
   "cell_type": "code",
   "execution_count": 31,
   "id": "580232ee-6e38-40b4-8a6d-a40e6abef727",
   "metadata": {
    "tags": []
   },
   "outputs": [],
   "source": [
    "optimizer = torch.optim.AdamW(model.parameters(), lr=1e-3)"
   ]
  },
  {
   "cell_type": "code",
   "execution_count": null,
   "id": "3a0252ca-e896-4f82-8129-9344688cf95a",
   "metadata": {
    "tags": []
   },
   "outputs": [
    {
     "name": "stderr",
     "output_type": "stream",
     "text": [
      " 26%|███████████████                                           | 51728/200000 [01:29<04:17, 576.19it/s]"
     ]
    }
   ],
   "source": [
    "loglossi = []\n",
    "lossi = []\n",
    "STEPS = 200_000\n",
    "# STEPS = 2_000\n",
    "for i in tqdm(range(STEPS)):\n",
    "    # mini-batch\n",
    "    ix = torch.randint(0, Xtr.shape[0], (batch_size,))\n",
    "    Xb, Yb = Xtr[ix], Ytr[ix]\n",
    "    # forward\n",
    "    logits = model(Xb)\n",
    "    loss = F.cross_entropy(logits, Yb)\n",
    "\n",
    "    # backward\n",
    "    optimizer.zero_grad(set_to_none=True)\n",
    "    # for p in parameters:\n",
    "    #     p.grad = None\n",
    "    loss.backward()\n",
    "\n",
    "    # update\n",
    "    optimizer.step()    \n",
    "    \n",
    "    # tracking\n",
    "    loglossi.append(loss.log10().item())\n",
    "    lossi.append(loss.item())\n",
    "    \n",
    "    # break\n",
    "    if i >= 10999:\n",
    "        # break\n",
    "        pass"
   ]
  },
  {
   "cell_type": "code",
   "execution_count": null,
   "id": "01ebdd2c-bf0a-4556-8bf7-fdc9d377aee7",
   "metadata": {
    "tags": []
   },
   "outputs": [],
   "source": [
    "group_size = 200\n",
    "plt.figure(figsize=(12,3))\n",
    "plt.plot(\n",
    "    torch.arange(len(lossi)).view(-1, group_size).float().mean(1),\n",
    "    torch.tensor(lossi).view(-1, group_size).mean(1)\n",
    ")\n",
    "plt.grid()\n",
    "plt.show()"
   ]
  },
  {
   "cell_type": "markdown",
   "id": "5c3ca834-3a9d-4df4-9191-29de2b560d85",
   "metadata": {
    "tags": []
   },
   "source": [
    "## compute loss on train/dev/test"
   ]
  },
  {
   "cell_type": "code",
   "execution_count": null,
   "id": "062bb895-e5ad-440d-baac-987850fb6c01",
   "metadata": {
    "tags": []
   },
   "outputs": [],
   "source": [
    "model.eval()"
   ]
  },
  {
   "cell_type": "code",
   "execution_count": null,
   "id": "693a38b5-b71f-4c0a-875b-d134b4a30503",
   "metadata": {
    "tags": []
   },
   "outputs": [],
   "source": [
    "def eval_dataset(X, Y):\n",
    "    with torch.no_grad():\n",
    "        logits = model(X)\n",
    "        loss = F.cross_entropy(logits, Y)\n",
    "        print(loss.item())"
   ]
  },
  {
   "cell_type": "code",
   "execution_count": null,
   "id": "e43e222c-36a5-4666-9502-d10b3c17d5e4",
   "metadata": {
    "tags": []
   },
   "outputs": [],
   "source": [
    "eval_dataset(Xtr, Ytr)\n",
    "eval_dataset(Xdv, Ydv)\n",
    "# eval_dataset(Xte, Yte)"
   ]
  },
  {
   "cell_type": "code",
   "execution_count": null,
   "id": "011ad8eb-d644-4c53-b0cf-3fc5bd4b96a9",
   "metadata": {
    "tags": []
   },
   "outputs": [],
   "source": [
    "eval_dataset(Xtr, Ytr)\n",
    "eval_dataset(Xdv, Ydv)\n",
    "# eval_dataset(Xte, Yte)"
   ]
  },
  {
   "cell_type": "code",
   "execution_count": null,
   "id": "b287e432-5330-4621-aabb-be2033bad183",
   "metadata": {},
   "outputs": [],
   "source": []
  }
 ],
 "metadata": {
  "kernelspec": {
   "display_name": "Python 3 (ipykernel)",
   "language": "python",
   "name": "python3"
  },
  "language_info": {
   "codemirror_mode": {
    "name": "ipython",
    "version": 3
   },
   "file_extension": ".py",
   "mimetype": "text/x-python",
   "name": "python",
   "nbconvert_exporter": "python",
   "pygments_lexer": "ipython3",
   "version": "3.10.6"
  }
 },
 "nbformat": 4,
 "nbformat_minor": 5
}
