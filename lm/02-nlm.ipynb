{
 "cells": [
  {
   "cell_type": "code",
   "execution_count": 6,
   "id": "2a88455e-b1ea-4cec-821c-e358bd34d1f9",
   "metadata": {
    "tags": []
   },
   "outputs": [],
   "source": [
    "import random\n",
    "from tqdm import tqdm\n",
    "import matplotlib.pyplot as plt\n",
    "\n",
    "import torch\n",
    "import torch.nn.functional as F"
   ]
  },
  {
   "cell_type": "markdown",
   "id": "34a9f7a0-079a-4671-a3fe-9f5749b09f27",
   "metadata": {},
   "source": [
    "# read data"
   ]
  },
  {
   "cell_type": "code",
   "execution_count": 7,
   "id": "cf7b725e-604d-4b00-a5f6-32b98e41bf9f",
   "metadata": {
    "tags": []
   },
   "outputs": [],
   "source": [
    "words = open('../data/names.txt', 'r').read().splitlines()"
   ]
  },
  {
   "cell_type": "code",
   "execution_count": 8,
   "id": "2654383b-46e5-4d9a-b6a8-af4cf1983255",
   "metadata": {
    "tags": []
   },
   "outputs": [
    {
     "data": {
      "text/plain": [
       "32033"
      ]
     },
     "execution_count": 8,
     "metadata": {},
     "output_type": "execute_result"
    }
   ],
   "source": [
    "len(words)"
   ]
  },
  {
   "cell_type": "code",
   "execution_count": 9,
   "id": "6f2300b9-9a5b-489e-93aa-cf3afc1067cf",
   "metadata": {
    "tags": []
   },
   "outputs": [
    {
     "data": {
      "text/plain": [
       "['emma', 'olivia', 'ava', 'isabella', 'sophia']"
      ]
     },
     "execution_count": 9,
     "metadata": {},
     "output_type": "execute_result"
    }
   ],
   "source": [
    "words[:5]"
   ]
  },
  {
   "cell_type": "code",
   "execution_count": 10,
   "id": "e3db4cab-6843-4d45-82ad-00c81a3a6b6c",
   "metadata": {
    "tags": []
   },
   "outputs": [],
   "source": [
    "chars = sorted(list(set(''.join(words))))"
   ]
  },
  {
   "cell_type": "markdown",
   "id": "35dcdea4-42ef-411b-a09b-8d232a85ff32",
   "metadata": {},
   "source": [
    "# util"
   ]
  },
  {
   "cell_type": "code",
   "execution_count": 11,
   "id": "10c6c396-83f5-4761-a383-2c2c222821d5",
   "metadata": {
    "tags": []
   },
   "outputs": [],
   "source": [
    "itos = {}\n",
    "itos[0] = '.'\n",
    "itos |= {i+1: s for i, s in enumerate(chars)}"
   ]
  },
  {
   "cell_type": "code",
   "execution_count": 12,
   "id": "ac357634-10b0-4ce2-9bba-c26c054871f5",
   "metadata": {
    "tags": []
   },
   "outputs": [],
   "source": [
    "stoi = {s: i for i, s in itos.items()}"
   ]
  },
  {
   "cell_type": "code",
   "execution_count": 71,
   "id": "ac0e8238-19b5-4a72-83e4-f00af9cd8610",
   "metadata": {
    "tags": []
   },
   "outputs": [
    {
     "data": {
      "text/plain": [
       "27"
      ]
     },
     "execution_count": 71,
     "metadata": {},
     "output_type": "execute_result"
    }
   ],
   "source": [
    "vocab_size = len(stoi)\n",
    "vocab_size"
   ]
  },
  {
   "cell_type": "markdown",
   "id": "ae43767f-7d41-44a2-b858-8db606429e07",
   "metadata": {},
   "source": [
    "# Build a neural language model"
   ]
  },
  {
   "cell_type": "markdown",
   "id": "b4b0830c-c437-4511-84a1-3ff111efb085",
   "metadata": {},
   "source": [
    "## prepare data"
   ]
  },
  {
   "cell_type": "code",
   "execution_count": 13,
   "id": "94174bfd-a7bf-4538-84e1-de587ec865d3",
   "metadata": {
    "tags": []
   },
   "outputs": [],
   "source": [
    "block_size = 3\n",
    "def build_dataset(data):\n",
    "    X, Y = [], []\n",
    "    for w in data[:]:\n",
    "        # print(w)\n",
    "        context = [0] * block_size\n",
    "        for ch in w + '.':\n",
    "            ix = stoi[ch]\n",
    "            # print(''.join([itos[i] for i in context]), '--->', itos[ix])\n",
    "            X.append(context)\n",
    "            Y.append(ix)\n",
    "            context = context[1:] + [ix]        \n",
    "\n",
    "    X = torch.tensor(X)\n",
    "    Y = torch.tensor(Y)        \n",
    "    print(X.shape, Y.shape)\n",
    "    return X, Y"
   ]
  },
  {
   "cell_type": "code",
   "execution_count": 26,
   "id": "ad114b7b-5531-430e-9e78-ea5b2bba8919",
   "metadata": {
    "tags": []
   },
   "outputs": [
    {
     "name": "stdout",
     "output_type": "stream",
     "text": [
      "torch.Size([182437, 3]) torch.Size([182437])\n",
      "torch.Size([22781, 3]) torch.Size([22781])\n",
      "torch.Size([22928, 3]) torch.Size([22928])\n"
     ]
    }
   ],
   "source": [
    "random.seed(42)\n",
    "random.shuffle(words)\n",
    "n1 = int(0.8*len(words))\n",
    "n2 = int(0.9*len(words))\n",
    "         \n",
    "Xtr, Ytr = build_dataset(words[:n1])\n",
    "Xdv, Ydv = build_dataset(words[n1:n2])\n",
    "Xte, Yte = build_dataset(words[n2:])                               "
   ]
  },
  {
   "cell_type": "markdown",
   "id": "d63c3836-6d7a-4354-b7ab-25d9efd61b31",
   "metadata": {},
   "source": [
    "# indexing and embeding"
   ]
  },
  {
   "cell_type": "code",
   "execution_count": 36,
   "id": "131042cf-f20a-4955-818e-4e5dce6e401b",
   "metadata": {
    "tags": []
   },
   "outputs": [
    {
     "data": {
      "text/plain": [
       "tensor([[ 0.5596,  0.9473],\n",
       "        [-0.3376, -1.7946],\n",
       "        [ 1.2709,  1.2079],\n",
       "        [ 0.6364,  0.0592],\n",
       "        [ 0.9746, -0.0174]])"
      ]
     },
     "execution_count": 36,
     "metadata": {},
     "output_type": "execute_result"
    }
   ],
   "source": [
    "C = torch.randn(len(itos), 2)\n",
    "C[:5]"
   ]
  },
  {
   "cell_type": "code",
   "execution_count": 37,
   "id": "053983d1-4f9d-48c9-81d5-32e565fb326f",
   "metadata": {
    "tags": []
   },
   "outputs": [],
   "source": [
    "tmp = torch.tensor([[2, 3,3],\n",
    "                   [1,0,0]])"
   ]
  },
  {
   "cell_type": "code",
   "execution_count": 38,
   "id": "39c60b83-d3df-4f6f-a3fb-9053a51a992f",
   "metadata": {
    "tags": []
   },
   "outputs": [
    {
     "data": {
      "text/plain": [
       "tensor([1.2709, 1.2079])"
      ]
     },
     "execution_count": 38,
     "metadata": {},
     "output_type": "execute_result"
    }
   ],
   "source": [
    "C[2]"
   ]
  },
  {
   "cell_type": "code",
   "execution_count": 39,
   "id": "8bf8f62a-99dd-4213-a2aa-51af66113ce3",
   "metadata": {
    "tags": []
   },
   "outputs": [
    {
     "data": {
      "text/plain": [
       "tensor([1.2709, 1.2079])"
      ]
     },
     "execution_count": 39,
     "metadata": {},
     "output_type": "execute_result"
    }
   ],
   "source": [
    "C[tmp][0,0]"
   ]
  },
  {
   "cell_type": "markdown",
   "id": "5cf06ad1-23f9-4f7f-9015-be3d2e356104",
   "metadata": {},
   "source": [
    "# torch.cat vs torch.view"
   ]
  },
  {
   "cell_type": "code",
   "execution_count": 53,
   "id": "2b4da15a-9387-4fef-86b0-7af9ca152214",
   "metadata": {
    "tags": []
   },
   "outputs": [],
   "source": [
    "emb = C[Xtr][:4]"
   ]
  },
  {
   "cell_type": "code",
   "execution_count": 54,
   "id": "f18b2e84-5095-4fb5-8411-5c2244823617",
   "metadata": {
    "tags": []
   },
   "outputs": [
    {
     "data": {
      "text/plain": [
       "torch.Size([4, 3, 2])"
      ]
     },
     "execution_count": 54,
     "metadata": {},
     "output_type": "execute_result"
    }
   ],
   "source": [
    "emb.shape"
   ]
  },
  {
   "cell_type": "code",
   "execution_count": 55,
   "id": "49a5faa1-2e7e-4490-a92d-4a699c2ed862",
   "metadata": {
    "tags": []
   },
   "outputs": [
    {
     "data": {
      "text/plain": [
       "tensor([[[ 0.5596,  0.9473],\n",
       "         [ 0.5596,  0.9473],\n",
       "         [ 0.5596,  0.9473]],\n",
       "\n",
       "        [[ 0.5596,  0.9473],\n",
       "         [ 0.5596,  0.9473],\n",
       "         [ 1.6763, -1.7790]],\n",
       "\n",
       "        [[ 0.5596,  0.9473],\n",
       "         [ 1.6763, -1.7790],\n",
       "         [-0.3376, -1.7946]],\n",
       "\n",
       "        [[ 1.6763, -1.7790],\n",
       "         [-0.3376, -1.7946],\n",
       "         [-0.6984,  1.5742]]])"
      ]
     },
     "execution_count": 55,
     "metadata": {},
     "output_type": "execute_result"
    }
   ],
   "source": [
    "emb"
   ]
  },
  {
   "cell_type": "code",
   "execution_count": 63,
   "id": "2a7da4f2-78e6-4757-8e19-724bf5c0b906",
   "metadata": {
    "tags": []
   },
   "outputs": [
    {
     "data": {
      "text/plain": [
       "tensor([[ 0.5596,  0.9473],\n",
       "        [ 0.5596,  0.9473],\n",
       "        [ 0.5596,  0.9473],\n",
       "        [ 1.6763, -1.7790]])"
      ]
     },
     "execution_count": 63,
     "metadata": {},
     "output_type": "execute_result"
    }
   ],
   "source": [
    "emb[:,0,:]"
   ]
  },
  {
   "cell_type": "code",
   "execution_count": 62,
   "id": "7ecd7867-085a-4bff-b387-e74a599cfd1d",
   "metadata": {
    "tags": []
   },
   "outputs": [
    {
     "data": {
      "text/plain": [
       "tensor([[ 0.5596,  0.5596,  0.5596],\n",
       "        [ 0.5596,  0.5596,  1.6763],\n",
       "        [ 0.5596,  1.6763, -0.3376],\n",
       "        [ 1.6763, -0.3376, -0.6984]])"
      ]
     },
     "execution_count": 62,
     "metadata": {},
     "output_type": "execute_result"
    }
   ],
   "source": [
    "emb[:,:,0]"
   ]
  },
  {
   "cell_type": "code",
   "execution_count": 56,
   "id": "6e282780-8a9c-4705-b7d2-01b9a5592f90",
   "metadata": {
    "tags": []
   },
   "outputs": [
    {
     "data": {
      "text/plain": [
       "tensor([[ 0.5596,  0.9473,  0.5596,  0.9473,  0.5596,  0.9473],\n",
       "        [ 0.5596,  0.9473,  0.5596,  0.9473,  1.6763, -1.7790],\n",
       "        [ 0.5596,  0.9473,  1.6763, -1.7790, -0.3376, -1.7946],\n",
       "        [ 1.6763, -1.7790, -0.3376, -1.7946, -0.6984,  1.5742]])"
      ]
     },
     "execution_count": 56,
     "metadata": {},
     "output_type": "execute_result"
    }
   ],
   "source": [
    "torch.cat([emb[:,0,:], emb[:,1,:], emb[:,2,:]],1)"
   ]
  },
  {
   "cell_type": "code",
   "execution_count": 64,
   "id": "38f7a3ef-ccbb-4be9-afd9-242f214fea31",
   "metadata": {
    "tags": []
   },
   "outputs": [],
   "source": [
    "emb2 = emb.swapaxes(1,2)"
   ]
  },
  {
   "cell_type": "code",
   "execution_count": 66,
   "id": "e02af3c2-219a-4bd1-afb1-8cfd7a3eb689",
   "metadata": {
    "tags": []
   },
   "outputs": [
    {
     "data": {
      "text/plain": [
       "tensor([[ 0.5596,  0.9473,  0.5596,  0.9473,  0.5596,  0.9473],\n",
       "        [ 0.5596,  0.9473,  0.5596,  0.9473,  1.6763, -1.7790],\n",
       "        [ 0.5596,  0.9473,  1.6763, -1.7790, -0.3376, -1.7946],\n",
       "        [ 1.6763, -1.7790, -0.3376, -1.7946, -0.6984,  1.5742]])"
      ]
     },
     "execution_count": 66,
     "metadata": {},
     "output_type": "execute_result"
    }
   ],
   "source": [
    "torch.cat([emb2[:,:,0], emb2[:,:,1], emb2[:,:,2]],1)"
   ]
  },
  {
   "cell_type": "code",
   "execution_count": 59,
   "id": "e8210b2b-0d97-4fef-b02f-8b189666cd85",
   "metadata": {
    "tags": []
   },
   "outputs": [
    {
     "data": {
      "text/plain": [
       "tensor([[ 0.5596,  0.9473,  0.5596,  0.9473,  0.5596,  0.9473],\n",
       "        [ 0.5596,  0.9473,  0.5596,  0.9473,  1.6763, -1.7790],\n",
       "        [ 0.5596,  0.9473,  1.6763, -1.7790, -0.3376, -1.7946],\n",
       "        [ 1.6763, -1.7790, -0.3376, -1.7946, -0.6984,  1.5742]])"
      ]
     },
     "execution_count": 59,
     "metadata": {},
     "output_type": "execute_result"
    }
   ],
   "source": [
    "emb.view(-1, 6)"
   ]
  },
  {
   "cell_type": "code",
   "execution_count": 60,
   "id": "3a0dbf87-3916-40f2-8e7d-9edf3148f4de",
   "metadata": {
    "tags": []
   },
   "outputs": [
    {
     "data": {
      "text/plain": [
       "tensor(True)"
      ]
     },
     "execution_count": 60,
     "metadata": {},
     "output_type": "execute_result"
    }
   ],
   "source": [
    "(torch.cat(torch.unbind(emb, 1),1) == emb.view(-1, 6)).all()"
   ]
  },
  {
   "cell_type": "code",
   "execution_count": 70,
   "id": "a6b8cbef-55e6-4b08-aa69-0aa35fa519bf",
   "metadata": {
    "tags": []
   },
   "outputs": [
    {
     "data": {
      "text/plain": [
       "tensor(True)"
      ]
     },
     "execution_count": 70,
     "metadata": {},
     "output_type": "execute_result"
    }
   ],
   "source": [
    "(torch.cat(torch.unbind(emb2, 2),1) == emb.view(-1, 6)).all()"
   ]
  },
  {
   "cell_type": "code",
   "execution_count": 68,
   "id": "3247cbe1-9cce-484e-84ae-aa4e1dfb7e03",
   "metadata": {
    "tags": []
   },
   "outputs": [
    {
     "data": {
      "text/plain": [
       "tensor(False)"
      ]
     },
     "execution_count": 68,
     "metadata": {},
     "output_type": "execute_result"
    }
   ],
   "source": [
    "(torch.cat(torch.unbind(emb, 2),1) == emb.view(-1, 6)).all()"
   ]
  },
  {
   "cell_type": "code",
   "execution_count": 50,
   "id": "e8320b08-bb8a-4577-a7d5-6774f96ef8bc",
   "metadata": {
    "tags": []
   },
   "outputs": [
    {
     "data": {
      "text/plain": [
       "tensor(True)"
      ]
     },
     "execution_count": 50,
     "metadata": {},
     "output_type": "execute_result"
    }
   ],
   "source": [
    "(torch.cat([emb[:,0,:], emb[:,1,:], emb[:,2,:]],1) == emb.view(-1, 6)).all()"
   ]
  },
  {
   "cell_type": "code",
   "execution_count": 51,
   "id": "46468e7f-495a-4e75-a385-4d515f22a1e2",
   "metadata": {
    "tags": []
   },
   "outputs": [
    {
     "data": {
      "text/plain": [
       "tensor(False)"
      ]
     },
     "execution_count": 51,
     "metadata": {},
     "output_type": "execute_result"
    }
   ],
   "source": [
    "(torch.cat([emb[:,:,0], emb[:,:,1]],1) == emb.view(-1, 6)).all()"
   ]
  },
  {
   "cell_type": "code",
   "execution_count": 67,
   "id": "515db5ec-6b91-488a-baca-4028f7c5253f",
   "metadata": {
    "tags": []
   },
   "outputs": [
    {
     "data": {
      "text/plain": [
       "tensor(True)"
      ]
     },
     "execution_count": 67,
     "metadata": {},
     "output_type": "execute_result"
    }
   ],
   "source": [
    "(torch.cat([emb2[:,:,0], emb2[:,:,1], emb2[:,:,2]],1) == emb.view(-1, 6)).all()"
   ]
  },
  {
   "cell_type": "code",
   "execution_count": 52,
   "id": "09db3f1a-338e-4cc0-a489-1cd9ef86fe63",
   "metadata": {
    "tags": []
   },
   "outputs": [
    {
     "data": {
      "text/plain": [
       "torch.Size([182437, 6])"
      ]
     },
     "execution_count": 52,
     "metadata": {},
     "output_type": "execute_result"
    }
   ],
   "source": [
    "torch.cat([emb[:,:,0], emb[:,:,1]],1).shape"
   ]
  },
  {
   "cell_type": "markdown",
   "id": "d105a2eb-19a2-422b-8e73-ed6aaedbd745",
   "metadata": {},
   "source": [
    "# figuring out learning rate"
   ]
  },
  {
   "cell_type": "code",
   "execution_count": 156,
   "id": "32719e18-15a7-4e7b-927c-593f6e78de44",
   "metadata": {
    "tags": []
   },
   "outputs": [],
   "source": [
    "EMBD_DIM = 10\n",
    "HIDDEN_DIM = 200"
   ]
  },
  {
   "cell_type": "code",
   "execution_count": 157,
   "id": "c716ac45-703f-4f39-ae16-a0a0200f6400",
   "metadata": {
    "tags": []
   },
   "outputs": [],
   "source": [
    "C = torch.randn(len(itos), EMBD_DIM)\n",
    "w1 = torch.randn(EMBD_DIM*block_size, HIDDEN_DIM)\n",
    "b1 = torch.randn(HIDDEN_DIM)\n",
    "w2 = torch.randn(HIDDEN_DIM, vocab_size) * 0.02\n",
    "b2 = torch.randn(vocab_size) * 0.01\n",
    "parameters = [C, w1, b1, w2, b2]"
   ]
  },
  {
   "cell_type": "code",
   "execution_count": 158,
   "id": "ee97504e-4943-4f94-8301-2aaa798587c6",
   "metadata": {
    "tags": []
   },
   "outputs": [],
   "source": [
    "for p in parameters:\n",
    "    p.requires_grad = True"
   ]
  },
  {
   "cell_type": "code",
   "execution_count": 159,
   "id": "a8ab1dc7-626c-44ea-b89d-ceee8c65c21a",
   "metadata": {
    "tags": []
   },
   "outputs": [],
   "source": [
    "loglossi = []\n",
    "lossi = []"
   ]
  },
  {
   "cell_type": "code",
   "execution_count": 160,
   "id": "caa7ad23-4116-4f3d-a1d4-34d85040872e",
   "metadata": {
    "tags": []
   },
   "outputs": [],
   "source": [
    "lre = torch.linspace(-3, 0, 1000)\n",
    "lri = 10**lre"
   ]
  },
  {
   "cell_type": "code",
   "execution_count": null,
   "id": "8e95da2f-bc48-4a47-8b81-b9847cef63a3",
   "metadata": {},
   "outputs": [],
   "source": []
  },
  {
   "cell_type": "code",
   "execution_count": 161,
   "id": "b844e435-ac4e-4e7e-ba1d-2d22b9e9df76",
   "metadata": {
    "tags": []
   },
   "outputs": [
    {
     "name": "stderr",
     "output_type": "stream",
     "text": [
      "100%|████████████████████████████████████████████████████████████| 1000/1000 [00:00<00:00, 3037.02it/s]\n"
     ]
    }
   ],
   "source": [
    "#STEPS = 800_000\n",
    "STEPS = 1_000\n",
    "for i in tqdm(range(STEPS)):\n",
    "    # mini-batch\n",
    "    ix = torch.randint(0, Xtr.shape[0], (32,))\n",
    "    Xb, Yb = Xtr[ix], Ytr[ix]\n",
    "    # forward\n",
    "    emb = C[Xb] # (32, 3, 2)\n",
    "    h = (emb.view(emb.shape[0], -1) @ w1 + b1).tanh() # (32, 100)\n",
    "    logits = h @ w2 + b2 # (32, 27)\n",
    "    loss = F.cross_entropy(logits, Yb)\n",
    "\n",
    "    # backward\n",
    "    for p in parameters:\n",
    "        p.grad = None\n",
    "    loss.backward()\n",
    "\n",
    "    # update\n",
    "    # lr = 0.1 if i < STEPS//2 else 0.01\n",
    "    lr = lri[i]\n",
    "    for p in parameters:\n",
    "        p.data += -lr * p.grad\n",
    "        \n",
    "    # tracking\n",
    "    loglossi.append(loss.log10().item())\n",
    "    lossi.append(loss.item())"
   ]
  },
  {
   "cell_type": "code",
   "execution_count": 162,
   "id": "991b6d47-733d-416c-b64f-5a100432e325",
   "metadata": {
    "tags": []
   },
   "outputs": [
    {
     "data": {
      "image/png": "[encoded data removed]",
      "text/plain": [
       "<Figure size 640x480 with 1 Axes>"
      ]
     },
     "metadata": {},
     "output_type": "display_data"
    }
   ],
   "source": [
    "plt.plot(lre, lossi);"
   ]
  },
  {
   "cell_type": "markdown",
   "id": "7ee70e12-f9fd-4b6e-9be8-52f517b727a9",
   "metadata": {},
   "source": [
    "# Train a neural language model"
   ]
  },
  {
   "cell_type": "code",
   "execution_count": 163,
   "id": "82377c6c-7433-41e3-b2e9-8af5d694864a",
   "metadata": {
    "tags": []
   },
   "outputs": [],
   "source": [
    "EMBD_DIM = 10\n",
    "HIDDEN_DIM = 200"
   ]
  },
  {
   "cell_type": "code",
   "execution_count": 164,
   "id": "fc56f0f6-6e30-4de4-abc9-18d089ad5517",
   "metadata": {
    "tags": []
   },
   "outputs": [],
   "source": [
    "C = torch.randn(len(itos), EMBD_DIM)\n",
    "w1 = torch.randn(EMBD_DIM*block_size, HIDDEN_DIM)\n",
    "b1 = torch.randn(HIDDEN_DIM)\n",
    "w2 = torch.randn(HIDDEN_DIM, vocab_size) * 0.02\n",
    "b2 = torch.randn(vocab_size) * 0.01\n",
    "parameters = [C, w1, b1, w2, b2]"
   ]
  },
  {
   "cell_type": "code",
   "execution_count": 165,
   "id": "53673d8b-8971-479b-84dc-5fe3e719c221",
   "metadata": {
    "tags": []
   },
   "outputs": [
    {
     "data": {
      "text/plain": [
       "11897"
      ]
     },
     "execution_count": 165,
     "metadata": {},
     "output_type": "execute_result"
    }
   ],
   "source": [
    "sum(p.nelement() for p in parameters)"
   ]
  },
  {
   "cell_type": "code",
   "execution_count": 166,
   "id": "fb68d9de-a70b-4cd2-b80d-e58e07f5a12a",
   "metadata": {
    "tags": []
   },
   "outputs": [],
   "source": [
    "for p in parameters:\n",
    "    p.requires_grad = True"
   ]
  },
  {
   "cell_type": "code",
   "execution_count": 167,
   "id": "e6b46f27-be6f-41f1-a9df-210a2650d093",
   "metadata": {},
   "outputs": [],
   "source": [
    "loglossi = []\n",
    "lossi = []"
   ]
  },
  {
   "cell_type": "code",
   "execution_count": null,
   "id": "cb87dd28-3e8a-4e61-8826-88db4dd1bb82",
   "metadata": {},
   "outputs": [
    {
     "name": "stderr",
     "output_type": "stream",
     "text": [
      "  3%|█▉                                                        | 6819/200000 [00:02<01:06, 2906.52it/s]"
     ]
    }
   ],
   "source": [
    "# STEPS = 800_000\n",
    "STEPS = 200_000\n",
    "# STEPS = 10_000\n",
    "for i in tqdm(range(STEPS)):\n",
    "    # mini-batch\n",
    "    ix = torch.randint(0, Xtr.shape[0], (32,))\n",
    "    Xb, Yb = Xtr[ix], Ytr[ix]\n",
    "    # forward\n",
    "    emb = C[Xb] # (32, 3, 2)\n",
    "    h = (emb.view(emb.shape[0], -1) @ w1 + b1).tanh() # (32, 100)\n",
    "    logits = h @ w2 + b2 # (32, 27)\n",
    "    loss = F.cross_entropy(logits, Yb)\n",
    "\n",
    "    # backward\n",
    "    for p in parameters:\n",
    "        p.grad = None\n",
    "    loss.backward()\n",
    "\n",
    "    # update\n",
    "    lr = 0.1 if i < STEPS//2 else 0.01\n",
    "    for p in parameters:\n",
    "        p.data += -lr * p.grad\n",
    "        \n",
    "    # tracking\n",
    "    loglossi.append(loss.log10().item())\n",
    "    lossi.append(loss.item())"
   ]
  },
  {
   "cell_type": "code",
   "execution_count": null,
   "id": "ae222b3a-01c2-4943-8159-21781da4dcae",
   "metadata": {
    "tags": []
   },
   "outputs": [],
   "source": []
  },
  {
   "cell_type": "code",
   "execution_count": 145,
   "id": "8f720bab-785f-4105-a265-4782d98b7391",
   "metadata": {
    "tags": []
   },
   "outputs": [
    {
     "data": {
      "image/png": "[encoded data removed]",
      "text/plain": [
       "<Figure size 1200x600 with 2 Axes>"
      ]
     },
     "metadata": {},
     "output_type": "display_data"
    }
   ],
   "source": [
    "group_size = 1_000\n",
    "plt.figure(figsize=(12,6))\n",
    "plt.subplot(211)\n",
    "plt.plot(\n",
    "    torch.arange(len(loglossi)).view(-1, group_size).float().mean(1),\n",
    "    torch.tensor(loglossi).view(-1, group_size).mean(1)\n",
    ")\n",
    "plt.grid()\n",
    "plt.subplot(212)\n",
    "plt.plot(\n",
    "    torch.arange(len(lossi)).view(-1, group_size).float().mean(1),\n",
    "    torch.tensor(lossi).view(-1, group_size).mean(1)\n",
    ")\n",
    "plt.grid()\n",
    "plt.show()"
   ]
  },
  {
   "cell_type": "code",
   "execution_count": null,
   "id": "78d159ab-08ca-4981-86b0-e5c00e582f93",
   "metadata": {},
   "outputs": [],
   "source": []
  },
  {
   "cell_type": "markdown",
   "id": "5c3ca834-3a9d-4df4-9191-29de2b560d85",
   "metadata": {
    "tags": []
   },
   "source": [
    "## compute loss on train/dev/test"
   ]
  },
  {
   "cell_type": "code",
   "execution_count": 131,
   "id": "693a38b5-b71f-4c0a-875b-d134b4a30503",
   "metadata": {
    "tags": []
   },
   "outputs": [],
   "source": [
    "def eval_dataset(X, Y):\n",
    "    with torch.no_grad():\n",
    "        emb = C[X] # (32, 3, 2)\n",
    "        h = (emb.view(emb.shape[0], -1) @ w1 + b1).tanh() # (32, 100)\n",
    "        logits = h @ w2 + b2 # (32, 27)\n",
    "        loss = F.cross_entropy(logits, Y)\n",
    "        print(loss.item())"
   ]
  },
  {
   "cell_type": "code",
   "execution_count": 132,
   "id": "52ebf137-fa5d-4a41-bd1d-3c0e12113d07",
   "metadata": {
    "tags": []
   },
   "outputs": [
    {
     "name": "stdout",
     "output_type": "stream",
     "text": [
      "2.030031204223633\n",
      "2.141448497772217\n"
     ]
    }
   ],
   "source": [
    "eval_dataset(Xtr, Ytr)\n",
    "eval_dataset(Xdv, Ydv)\n",
    "# eval_dataset(Xte, Yte)"
   ]
  },
  {
   "cell_type": "markdown",
   "id": "4398f0d6-cd91-4f4f-b8c5-80ead996a696",
   "metadata": {},
   "source": [
    "## visualize the embedding"
   ]
  },
  {
   "cell_type": "code",
   "execution_count": 133,
   "id": "b463739c-330e-42c3-8107-5e656f811599",
   "metadata": {
    "tags": []
   },
   "outputs": [],
   "source": [
    "from sklearn.manifold import TSNE"
   ]
  },
  {
   "cell_type": "code",
   "execution_count": 140,
   "id": "28d4aeaa-9ca1-4648-baa2-de4321162752",
   "metadata": {
    "tags": []
   },
   "outputs": [],
   "source": [
    "tsne = TSNE(n_components=2, verbose=1, random_state=1235, perplexity=5)\n",
    "# tsne = TSNE(n_components=2, verbose=1, random_state=123)"
   ]
  },
  {
   "cell_type": "code",
   "execution_count": 141,
   "id": "f04c0eab-e071-4c37-9782-c6fa6b5f1c23",
   "metadata": {
    "tags": []
   },
   "outputs": [
    {
     "name": "stdout",
     "output_type": "stream",
     "text": [
      "[t-SNE] Computing 16 nearest neighbors...\n",
      "[t-SNE] Indexed 27 samples in 0.000s...\n",
      "[t-SNE] Computed neighbors for 27 samples in 0.002s...\n",
      "[t-SNE] Computed conditional probabilities for sample 27 / 27\n",
      "[t-SNE] Mean sigma: 2.038197\n",
      "[t-SNE] KL divergence after 250 iterations with early exaggeration: 63.448341\n",
      "[t-SNE] KL divergence after 1000 iterations: 0.547788\n"
     ]
    }
   ],
   "source": [
    "z = tsne.fit_transform(C.detach().numpy())"
   ]
  },
  {
   "cell_type": "code",
   "execution_count": 142,
   "id": "c8b12d64-8966-4ac8-ae21-69d275f63495",
   "metadata": {
    "tags": []
   },
   "outputs": [
    {
     "data": {
      "text/plain": [
       "(torch.Size([27, 10]), (27, 2))"
      ]
     },
     "execution_count": 142,
     "metadata": {},
     "output_type": "execute_result"
    }
   ],
   "source": [
    "C.shape, z.shape"
   ]
  },
  {
   "cell_type": "code",
   "execution_count": 143,
   "id": "7b946767-68b2-4a78-b226-3c3dd80ec2d3",
   "metadata": {
    "tags": []
   },
   "outputs": [
    {
     "data": {
      "image/png": "[encoded data removed]",
      "text/plain": [
       "<Figure size 640x480 with 1 Axes>"
      ]
     },
     "metadata": {},
     "output_type": "display_data"
    }
   ],
   "source": [
    "plt.scatter(z[:,0].data, z[:,1].data, s=600)\n",
    "for i in range(z.shape[0]):\n",
    "    if itos[i] in 'aeiou':\n",
    "        c = 'red'\n",
    "    else:\n",
    "        c = 'white'\n",
    "    plt.text(z[i,0].item(), z[i,1].item(), itos[i], color=c)"
   ]
  },
  {
   "cell_type": "markdown",
   "id": "93eaae2a-92fe-4bce-9741-23ab967adeb7",
   "metadata": {},
   "source": [
    "# generate names"
   ]
  },
  {
   "cell_type": "code",
   "execution_count": 138,
   "id": "c81d5977-391c-4134-b3e6-708dabfe6474",
   "metadata": {
    "tags": []
   },
   "outputs": [],
   "source": [
    "g = torch.Generator().manual_seed(2147483647 + 10)"
   ]
  },
  {
   "cell_type": "code",
   "execution_count": 139,
   "id": "e9c26489-bfce-4444-b25a-ae4c02329198",
   "metadata": {
    "tags": []
   },
   "outputs": [
    {
     "name": "stdout",
     "output_type": "stream",
     "text": [
      "carmahela.\n",
      "jharli.\n",
      "jori.\n",
      "rehtl.\n",
      "sklassie.\n",
      "mahnen.\n",
      "deliah.\n",
      "jareen.\n",
      "nellara.\n",
      "chaiir.\n"
     ]
    }
   ],
   "source": [
    "block_size = 3\n",
    "for _ in range(10):\n",
    "    out = []\n",
    "    context = [0] * block_size\n",
    "    while True:\n",
    "        emb = C[torch.tensor([context])]\n",
    "        h = (emb.view(1, -1) @ w1 + b1).tanh()\n",
    "        logits = h @ w2 + b2\n",
    "        probs = F.softmax(logits, dim=1)\n",
    "        ix = torch.multinomial(probs, num_samples=1, generator=g).item()\n",
    "        context = context[1:] + [ix]\n",
    "        out.append(ix)\n",
    "        if ix == 0:\n",
    "            break\n",
    "    print(''.join(itos[i] for i in out))"
   ]
  },
  {
   "cell_type": "code",
   "execution_count": null,
   "id": "692884f6-279f-4e2a-9b8c-4122aba41bb4",
   "metadata": {},
   "outputs": [],
   "source": []
  }
 ],
 "metadata": {
  "kernelspec": {
   "display_name": "Python 3 (ipykernel)",
   "language": "python",
   "name": "python3"
  },
  "language_info": {
   "codemirror_mode": {
    "name": "ipython",
    "version": 3
   },
   "file_extension": ".py",
   "mimetype": "text/x-python",
   "name": "python",
   "nbconvert_exporter": "python",
   "pygments_lexer": "ipython3",
   "version": "3.10.6"
  }
 },
 "nbformat": 4,
 "nbformat_minor": 5
}
