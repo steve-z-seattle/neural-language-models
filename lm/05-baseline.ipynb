{
 "cells": [
  {
   "cell_type": "code",
   "execution_count": 3,
   "id": "2a88455e-b1ea-4cec-821c-e358bd34d1f9",
   "metadata": {
    "tags": []
   },
   "outputs": [],
   "source": [
    "import random\n",
    "from tqdm import tqdm\n",
    "import matplotlib.pyplot as plt\n",
    "\n",
    "import torch\n",
    "import torch.nn.functional as F"
   ]
  },
  {
   "cell_type": "markdown",
   "id": "34a9f7a0-079a-4671-a3fe-9f5749b09f27",
   "metadata": {},
   "source": [
    "# read data"
   ]
  },
  {
   "cell_type": "code",
   "execution_count": 4,
   "id": "cf7b725e-604d-4b00-a5f6-32b98e41bf9f",
   "metadata": {
    "tags": []
   },
   "outputs": [],
   "source": [
    "words = open('../data/names.txt', 'r').read().splitlines()"
   ]
  },
  {
   "cell_type": "code",
   "execution_count": 5,
   "id": "2654383b-46e5-4d9a-b6a8-af4cf1983255",
   "metadata": {
    "tags": []
   },
   "outputs": [
    {
     "data": {
      "text/plain": [
       "32033"
      ]
     },
     "execution_count": 5,
     "metadata": {},
     "output_type": "execute_result"
    }
   ],
   "source": [
    "len(words)"
   ]
  },
  {
   "cell_type": "code",
   "execution_count": 6,
   "id": "6f2300b9-9a5b-489e-93aa-cf3afc1067cf",
   "metadata": {
    "tags": []
   },
   "outputs": [
    {
     "data": {
      "text/plain": [
       "['emma', 'olivia', 'ava', 'isabella', 'sophia']"
      ]
     },
     "execution_count": 6,
     "metadata": {},
     "output_type": "execute_result"
    }
   ],
   "source": [
    "words[:5]"
   ]
  },
  {
   "cell_type": "code",
   "execution_count": 7,
   "id": "e3db4cab-6843-4d45-82ad-00c81a3a6b6c",
   "metadata": {
    "tags": []
   },
   "outputs": [],
   "source": [
    "chars = sorted(list(set(''.join(words))))"
   ]
  },
  {
   "cell_type": "markdown",
   "id": "35dcdea4-42ef-411b-a09b-8d232a85ff32",
   "metadata": {},
   "source": [
    "# util"
   ]
  },
  {
   "cell_type": "code",
   "execution_count": 8,
   "id": "10c6c396-83f5-4761-a383-2c2c222821d5",
   "metadata": {
    "tags": []
   },
   "outputs": [],
   "source": [
    "itos = {}\n",
    "itos[0] = '.'\n",
    "itos |= {i+1: s for i, s in enumerate(chars)}"
   ]
  },
  {
   "cell_type": "code",
   "execution_count": 9,
   "id": "ac357634-10b0-4ce2-9bba-c26c054871f5",
   "metadata": {
    "tags": []
   },
   "outputs": [],
   "source": [
    "stoi = {s: i for i, s in itos.items()}"
   ]
  },
  {
   "cell_type": "code",
   "execution_count": 10,
   "id": "f9fd15b2-868c-4a24-a851-4fe2cb6cc507",
   "metadata": {
    "tags": []
   },
   "outputs": [
    {
     "data": {
      "text/plain": [
       "27"
      ]
     },
     "execution_count": 10,
     "metadata": {},
     "output_type": "execute_result"
    }
   ],
   "source": [
    "vocab_size = len(stoi)\n",
    "vocab_size"
   ]
  },
  {
   "cell_type": "markdown",
   "id": "ae43767f-7d41-44a2-b858-8db606429e07",
   "metadata": {},
   "source": [
    "# Build a neural language model"
   ]
  },
  {
   "cell_type": "markdown",
   "id": "b4b0830c-c437-4511-84a1-3ff111efb085",
   "metadata": {},
   "source": [
    "## prepare data"
   ]
  },
  {
   "cell_type": "code",
   "execution_count": 11,
   "id": "a7145292-1c7c-40ce-be6b-c423841505f7",
   "metadata": {
    "tags": []
   },
   "outputs": [],
   "source": [
    "block_size = 8\n",
    "batch_size = 10"
   ]
  },
  {
   "cell_type": "code",
   "execution_count": 12,
   "id": "94174bfd-a7bf-4538-84e1-de587ec865d3",
   "metadata": {
    "tags": []
   },
   "outputs": [],
   "source": [
    "def build_dataset(data):\n",
    "    X, Y = [], []\n",
    "    for w in data[:]:\n",
    "        # print(w)\n",
    "        context = [0] * block_size\n",
    "        for ch in w + '.':\n",
    "            ix = stoi[ch]\n",
    "            # print(''.join([itos[i] for i in context]), '--->', itos[ix])\n",
    "            X.append(context)\n",
    "            Y.append(ix)\n",
    "            context = context[1:] + [ix]        \n",
    "\n",
    "    X = torch.tensor(X)\n",
    "    Y = torch.tensor(Y)        \n",
    "    print(X.shape, Y.shape)\n",
    "    return X, Y"
   ]
  },
  {
   "cell_type": "code",
   "execution_count": 13,
   "id": "ad114b7b-5531-430e-9e78-ea5b2bba8919",
   "metadata": {
    "tags": []
   },
   "outputs": [
    {
     "name": "stdout",
     "output_type": "stream",
     "text": [
      "torch.Size([182625, 8]) torch.Size([182625])\n",
      "torch.Size([22655, 8]) torch.Size([22655])\n",
      "torch.Size([22866, 8]) torch.Size([22866])\n"
     ]
    }
   ],
   "source": [
    "random.seed(42)\n",
    "random.shuffle(words)\n",
    "n1 = int(0.8*len(words))\n",
    "n2 = int(0.9*len(words))\n",
    "         \n",
    "Xtr, Ytr = build_dataset(words[:n1])\n",
    "Xdv, Ydv = build_dataset(words[n1:n2])\n",
    "Xte, Yte = build_dataset(words[n2:])                               "
   ]
  },
  {
   "cell_type": "markdown",
   "id": "643a24d2-39f2-4528-9a42-90138ea1278c",
   "metadata": {
    "tags": []
   },
   "source": [
    "# Mimic PyTorch API"
   ]
  },
  {
   "cell_type": "code",
   "execution_count": 14,
   "id": "4d31b70c-7465-4045-888c-97be73b97dea",
   "metadata": {
    "tags": []
   },
   "outputs": [],
   "source": [
    "# ----------------------------------    \n",
    "class Linear:\n",
    "    def __init__(self, fan_in, fan_out, bias=True):\n",
    "        self.weight = torch.randn(fan_in, fan_out)\n",
    "        self.bias = torch.zeros(fan_out) if bias else None\n",
    "    \n",
    "    def __call__(self, x):\n",
    "        self.out = x @ self.weight\n",
    "        if self.bias is not None:\n",
    "            self.out += self.bias\n",
    "        return self.out\n",
    "    \n",
    "    def parameters(self):\n",
    "        return [self.weight] + ([self.bias] if self.bias is not None else [])\n",
    "    \n",
    "# ----------------------------------    \n",
    "class Tanh:\n",
    "    def __call__(self, x):\n",
    "        self.out = torch.tanh(x)\n",
    "        return self.out\n",
    "    \n",
    "    def parameters(self):\n",
    "        return []\n",
    "    \n",
    "# ----------------------------------    \n",
    "class Embedding:\n",
    "    def __init__(self, num_embd, embd_dim):\n",
    "        self.weight = torch.randn(num_embd, embd_dim)\n",
    "\n",
    "    def __call__(self, IX):\n",
    "        self.out = self.weight[IX]\n",
    "        return self.out\n",
    "    \n",
    "    def parameters(self):\n",
    "        return [self.weight]\n",
    "\n",
    "# ----------------------------------    \n",
    "class Flatten():\n",
    "    def __call__(self, x):\n",
    "        self.out = x.view(x.shape[0], -1)\n",
    "        return self.out\n",
    "    \n",
    "    def parameters(self):\n",
    "        return []\n",
    "    \n",
    "# ----------------------------------    \n",
    "class Sequential:\n",
    "    def __init__(self, layers):\n",
    "        self.layers = layers\n",
    "        \n",
    "    def __call__(self, x):\n",
    "        for layer in self.layers:\n",
    "            x = layer(x)\n",
    "        self.out = x\n",
    "        return self.out\n",
    "    \n",
    "    def parameters(self):\n",
    "        return [p for layer in self.layers for p in layer.parameters()]"
   ]
  },
  {
   "cell_type": "markdown",
   "id": "7ee70e12-f9fd-4b6e-9be8-52f517b727a9",
   "metadata": {},
   "source": [
    "# Train a neural language model"
   ]
  },
  {
   "cell_type": "code",
   "execution_count": 15,
   "id": "dc2b6c00-d23e-4ef9-96e0-dc2a94f9638c",
   "metadata": {
    "tags": []
   },
   "outputs": [
    {
     "name": "stdout",
     "output_type": "stream",
     "text": [
      "21897\n"
     ]
    }
   ],
   "source": [
    "n_embd = 10\n",
    "n_hidden = 200\n",
    "\n",
    "model = Sequential([\n",
    "    Embedding(vocab_size, n_embd),\n",
    "    Flatten(),\n",
    "    Linear(n_embd * block_size, n_hidden), Tanh(),\n",
    "    Linear(n_hidden, vocab_size),\n",
    "])\n",
    "\n",
    "with torch.no_grad():\n",
    "    model.layers[-1].weight *= 0.1\n",
    "\n",
    "parameters = model.parameters()\n",
    "print(sum(p.nelement() for p in parameters))\n",
    "for p in parameters:\n",
    "    p.requires_grad = True"
   ]
  },
  {
   "cell_type": "code",
   "execution_count": 16,
   "id": "fc56f0f6-6e30-4de4-abc9-18d089ad5517",
   "metadata": {
    "tags": []
   },
   "outputs": [],
   "source": [
    "# C = torch.randn(len(itos), 10)\n",
    "# w1 = torch.randn(30, 200)\n",
    "# b1 = torch.randn(200)\n",
    "# w2 = torch.randn(200, len(itos)) * 0.02\n",
    "# b2 = torch.randn(len(itos)) * 0.01\n",
    "# parameters = [C, w1, b1, w2, b2]"
   ]
  },
  {
   "cell_type": "code",
   "execution_count": null,
   "id": "fb68d9de-a70b-4cd2-b80d-e58e07f5a12a",
   "metadata": {
    "tags": []
   },
   "outputs": [],
   "source": []
  },
  {
   "cell_type": "code",
   "execution_count": 17,
   "id": "3a0252ca-e896-4f82-8129-9344688cf95a",
   "metadata": {},
   "outputs": [
    {
     "name": "stderr",
     "output_type": "stream",
     "text": [
      "100%|████████████████████████████████████████████████████████████| 2000000/2000000 [12:54<00:00, 2583.16it/s]\n"
     ]
    }
   ],
   "source": [
    "loglossi = []\n",
    "lossi = []\n",
    "STEPS = 2_000_000\n",
    "# STEPS = 10_000\n",
    "for i in tqdm(range(STEPS)):\n",
    "    # mini-batch\n",
    "    ix = torch.randint(0, Xtr.shape[0], (32,))\n",
    "    Xb, Yb = Xtr[ix], Ytr[ix]\n",
    "    # forward\n",
    "    logits = model(Xb)\n",
    "    loss = F.cross_entropy(logits, Yb)\n",
    "\n",
    "    # backward\n",
    "    for p in parameters:\n",
    "        p.grad = None\n",
    "    loss.backward()\n",
    "\n",
    "    # update\n",
    "    lr = 0.1 if i < STEPS//2 else 0.01\n",
    "    for p in parameters:\n",
    "        p.data += -lr * p.grad\n",
    "        \n",
    "    # tracking\n",
    "    loglossi.append(loss.log10().item())\n",
    "    lossi.append(loss.item())"
   ]
  },
  {
   "cell_type": "code",
   "execution_count": 18,
   "id": "6ba21629-943b-43a3-8be9-e87bdd0b8bf9",
   "metadata": {
    "tags": []
   },
   "outputs": [
    {
     "data": {
      "text/plain": [
       "[<matplotlib.lines.Line2D at 0x12dea34c0>]"
      ]
     },
     "execution_count": 18,
     "metadata": {},
     "output_type": "execute_result"
    },
    {
     "data": {
      "image/png": "[encoded data removed]",
      "text/plain": [
       "<Figure size 640x480 with 1 Axes>"
      ]
     },
     "metadata": {},
     "output_type": "display_data"
    }
   ],
   "source": [
    "plt.plot(torch.tensor(loglossi).view(200, -1).mean(1))"
   ]
  },
  {
   "cell_type": "markdown",
   "id": "5c3ca834-3a9d-4df4-9191-29de2b560d85",
   "metadata": {
    "tags": []
   },
   "source": [
    "## compute loss on train/dev/test"
   ]
  },
  {
   "cell_type": "code",
   "execution_count": 19,
   "id": "693a38b5-b71f-4c0a-875b-d134b4a30503",
   "metadata": {
    "tags": []
   },
   "outputs": [],
   "source": [
    "def eval_dataset(X, Y):\n",
    "    with torch.no_grad():\n",
    "        logits = model(X)\n",
    "        loss = F.cross_entropy(logits, Y)\n",
    "        print(loss.item())"
   ]
  },
  {
   "cell_type": "code",
   "execution_count": 20,
   "id": "52ebf137-fa5d-4a41-bd1d-3c0e12113d07",
   "metadata": {
    "tags": []
   },
   "outputs": [
    {
     "name": "stdout",
     "output_type": "stream",
     "text": [
      "1.905593991279602\n",
      "2.130955219268799\n"
     ]
    }
   ],
   "source": [
    "eval_dataset(Xtr, Ytr)\n",
    "eval_dataset(Xdv, Ydv)\n",
    "# eval_dataset(Xte, Yte)"
   ]
  },
  {
   "cell_type": "markdown",
   "id": "4398f0d6-cd91-4f4f-b8c5-80ead996a696",
   "metadata": {},
   "source": [
    "## visualize the embedding"
   ]
  },
  {
   "cell_type": "code",
   "execution_count": 21,
   "id": "b463739c-330e-42c3-8107-5e656f811599",
   "metadata": {
    "tags": []
   },
   "outputs": [],
   "source": [
    "from sklearn.manifold import TSNE"
   ]
  },
  {
   "cell_type": "code",
   "execution_count": 22,
   "id": "28d4aeaa-9ca1-4648-baa2-de4321162752",
   "metadata": {
    "tags": []
   },
   "outputs": [],
   "source": [
    "tsne = TSNE(n_components=2, verbose=1, random_state=1234, perplexity=3)\n",
    "# tsne = TSNE(n_components=2, verbose=1, random_state=123)"
   ]
  },
  {
   "cell_type": "code",
   "execution_count": 23,
   "id": "f04c0eab-e071-4c37-9782-c6fa6b5f1c23",
   "metadata": {
    "tags": []
   },
   "outputs": [
    {
     "name": "stdout",
     "output_type": "stream",
     "text": [
      "[t-SNE] Computing 10 nearest neighbors...\n",
      "[t-SNE] Indexed 27 samples in 0.001s...\n",
      "[t-SNE] Computed neighbors for 27 samples in 0.001s...\n",
      "[t-SNE] Computed conditional probabilities for sample 27 / 27\n",
      "[t-SNE] Mean sigma: 3.483179\n",
      "[t-SNE] KL divergence after 250 iterations with early exaggeration: 69.235168\n",
      "[t-SNE] KL divergence after 1000 iterations: 0.463122\n"
     ]
    }
   ],
   "source": [
    "z = tsne.fit_transform(model.layers[0].weight.detach().numpy())"
   ]
  },
  {
   "cell_type": "code",
   "execution_count": 24,
   "id": "c8b12d64-8966-4ac8-ae21-69d275f63495",
   "metadata": {
    "tags": []
   },
   "outputs": [
    {
     "data": {
      "text/plain": [
       "(torch.Size([27, 10]), (27, 2))"
      ]
     },
     "execution_count": 24,
     "metadata": {},
     "output_type": "execute_result"
    }
   ],
   "source": [
    "model.layers[0].weight.shape, z.shape"
   ]
  },
  {
   "cell_type": "code",
   "execution_count": 25,
   "id": "c553e122-a9af-4c86-bae0-7846a34fd322",
   "metadata": {
    "tags": []
   },
   "outputs": [
    {
     "data": {
      "image/png": "[encoded data removed]",
      "text/plain": [
       "<Figure size 640x480 with 1 Axes>"
      ]
     },
     "metadata": {},
     "output_type": "display_data"
    }
   ],
   "source": [
    "plt.scatter(z[:,0].data, z[:,1].data, s=600)\n",
    "for i in range(z.shape[0]):\n",
    "    if itos[i] in 'aeiou':\n",
    "        c = 'red'\n",
    "    else:\n",
    "        c = 'white'\n",
    "    plt.text(z[i,0].item(), z[i,1].item(), itos[i], color=c)"
   ]
  },
  {
   "cell_type": "markdown",
   "id": "93eaae2a-92fe-4bce-9741-23ab967adeb7",
   "metadata": {},
   "source": [
    "# generate names"
   ]
  },
  {
   "cell_type": "code",
   "execution_count": 26,
   "id": "c81d5977-391c-4134-b3e6-708dabfe6474",
   "metadata": {
    "tags": []
   },
   "outputs": [],
   "source": [
    "g = torch.Generator().manual_seed(2147483647 + 10)"
   ]
  },
  {
   "cell_type": "code",
   "execution_count": 27,
   "id": "c7160604-1fb5-40c5-9c96-9e0243db4d1b",
   "metadata": {
    "tags": []
   },
   "outputs": [
    {
     "name": "stdout",
     "output_type": "stream",
     "text": [
      "carmah.\n",
      "amillias.\n",
      "kimrich.\n",
      "atlantan.\n",
      "sketlynn.\n",
      "nadeerah.\n",
      "jarqui.\n",
      "nelmari.\n",
      "chrihvon.\n",
      "leigh.\n"
     ]
    }
   ],
   "source": [
    "for _ in range(10):\n",
    "    out = []\n",
    "    context = [0] * block_size\n",
    "    while True:\n",
    "        logits = model(torch.tensor([context]))\n",
    "        probs = F.softmax(logits, dim=1)\n",
    "        ix = torch.multinomial(probs, num_samples=1, generator=g).item()\n",
    "        context = context[1:] + [ix]\n",
    "        out.append(ix)\n",
    "        if ix == 0:\n",
    "            break\n",
    "    print(''.join(itos[i] for i in out))"
   ]
  },
  {
   "cell_type": "code",
   "execution_count": null,
   "id": "692884f6-279f-4e2a-9b8c-4122aba41bb4",
   "metadata": {},
   "outputs": [],
   "source": []
  }
 ],
 "metadata": {
  "kernelspec": {
   "display_name": "Python 3 (ipykernel)",
   "language": "python",
   "name": "python3"
  },
  "language_info": {
   "codemirror_mode": {
    "name": "ipython",
    "version": 3
   },
   "file_extension": ".py",
   "mimetype": "text/x-python",
   "name": "python",
   "nbconvert_exporter": "python",
   "pygments_lexer": "ipython3",
   "version": "3.10.6"
  }
 },
 "nbformat": 4,
 "nbformat_minor": 5
}
